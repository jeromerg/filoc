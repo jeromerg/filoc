{
 "cells": [
  {
   "cell_type": "markdown",
   "metadata": {},
   "source": [
    "<div style=\"display:flex;\">\n",
    "  <span style=\"margin-top:auto; margin-bottom:auto; margin-right:0.5em;\"> Open notebook in binder: </span>\n",
    "  <span style=\"margin-top:auto; margin-bottom:auto;\"><a href=\"https://mybinder.org/v2/gh/jeromerg/filoc/master?filepath=examples%2covid_github%2Fexample_covid_github.ipynb\"><img src=\"https://mybinder.org/badge_logo.svg\" width=\"150\"></a></span>\n",
    "</div>"
   ]
  },
  {
   "cell_type": "code",
   "execution_count": 1,
   "metadata": {
    "tags": [
     "hide_cell"
    ]
   },
   "outputs": [
    {
     "data": {
      "text/html": [
       "<style>@import url('https://fonts.googleapis.com/css2?family=Dancing+Script:wght@400;700&display=swap');\n",
       "\n",
       ".filoc { font-size:160%; font-family: 'Dancing Script', cursive; }\n",
       "\n",
       ".post-remark {\n",
       "    background-color: lemonChiffon; \n",
       "    padding:0.5em;\n",
       "    line-height:2em;\n",
       "}\n",
       "\n",
       ".post-remark:before {\n",
       "    content: \"⮱\";\n",
       "    font-size: 2.2em;\n",
       "    position: relative;\n",
       "    bottom: -0.1em;\n",
       "}\n",
       "\n",
       "table {margin-left: 4em !important;}\n",
       "</style>"
      ],
      "text/plain": [
       "<IPython.core.display.HTML object>"
      ]
     },
     "metadata": {},
     "output_type": "display_data"
    }
   ],
   "source": [
    "### Improve rendering with custom style\n",
    "from IPython.display import HTML\n",
    "with open( './custom.css', 'r' ) as f:\n",
    "    display(HTML(f\"<style>{f.read()}</style>\"));"
   ]
  },
  {
   "cell_type": "code",
   "execution_count": 2,
   "metadata": {
    "tags": [
     "hide_cell"
    ]
   },
   "outputs": [],
   "source": [
    "import os\n",
    "import sys\n",
    "sys.path.insert(0,os.path.abspath('../'))\n",
    "from filoc import filoc\n",
    "from pandas import DataFrame\n",
    "import pandas as pd\n",
    "import matplotlib.pyplot as plt\n",
    "import seaborn as sns\n",
    "from IPython.display import HTML\n",
    "from collections import namedtuple"
   ]
  },
  {
   "cell_type": "markdown",
   "metadata": {},
   "source": [
    "# Covid Data Analysis\n",
    "\n",
    "This notebook loads the covid statistics from the [John Hopkins University Github repository](https://github.com/CSSEGISandData), cleans them and visualizes them dynamically.\n",
    "\n",
    "It illustrates, how the <span class=\"filoc\">filoc</span> framework enables to quickly read multiple files into a single DataFrame.\n",
    "\n",
    "Remark: All along this notebook, the star ⭐ indicates places illustrating the use of to the filoc library."
   ]
  },
  {
   "cell_type": "markdown",
   "metadata": {},
   "source": [
    "## load raw data ⭐\n",
    "\n",
    "The [John Hopkins University Github repository](https://github.com/CSSEGISandData) stores the daily historical data in separate CSV files. The <span class=\"filoc\">filoc</span> framework can read multiple file in almost any folder structure. And it has a pre-configured CSV Backend, so that you can read the whole data set by simply instantiating the following <span class=\"filoc\">filoc</span>:"
   ]
  },
  {
   "cell_type": "code",
   "execution_count": 3,
   "metadata": {},
   "outputs": [],
   "source": [
    "# Declare the filoc instance\n",
    "loc = filoc(\n",
    "    locpath='github://CSSEGISandData:COVID-19@/csse_covid_19_data/csse_covid_19_daily_reports/{date_str}.csv', \n",
    "    backend='csv', \n",
    "    encoding='utf-8-sig', \n",
    "    cache_locpath='~/temp/filoc_cache'  # disable this line to deactivate caching and allow to reload the data from the repository\n",
    ")"
   ]
  },
  {
   "cell_type": "markdown",
   "metadata": {},
   "source": [
    "More about the <span class=\"filoc\">filoc</span> parameters:\n",
    "- `locpath`: (required) Defines the location path of the files to read. Here with use the [fsspec](https://filesystem-spec.readthedocs.io/en/latest/index.html) `github://` protocol to read the data directly from the github repository.\n",
    "- `backend`: (default `'json'`) Defines the backup instance, that must be used to read the files. <span class=\"filoc\">filoc</span> comes with four predefined backends: `'json'`, `'yaml'`, `'csv'`, `'pickle'`, but if you need, you can implement your own backend too.\n",
    "- `encoding`: (optional, default `'utf-8'`) Backend file encoding passed to the backend. The files contain the [BOM](https://de.wikipedia.org/wiki/Byte_Order_Mark), so we need the `'utf-8-sig'` encoding\n",
    "- `cache_locpath`: (optional, default `None`) Caches the backend loaded content to a local file, to speed up multiple reads"
   ]
  },
  {
   "cell_type": "markdown",
   "metadata": {},
   "source": [
    "First, we check that the <span class=\"filoc\">filoc</span> works as expected, and that the expected files are loaded:"
   ]
  },
  {
   "cell_type": "code",
   "execution_count": 4,
   "metadata": {
    "scrolled": true
   },
   "outputs": [
    {
     "data": {
      "text/plain": [
       "['csse_covid_19_data/csse_covid_19_daily_reports/01-22-2020.csv',\n",
       " 'csse_covid_19_data/csse_covid_19_daily_reports/01-23-2020.csv',\n",
       " 'csse_covid_19_data/csse_covid_19_daily_reports/01-24-2020.csv',\n",
       " 'csse_covid_19_data/csse_covid_19_daily_reports/01-25-2020.csv',\n",
       " 'csse_covid_19_data/csse_covid_19_daily_reports/01-26-2020.csv',\n",
       " 'csse_covid_19_data/csse_covid_19_daily_reports/01-27-2020.csv',\n",
       " 'csse_covid_19_data/csse_covid_19_daily_reports/01-28-2020.csv',\n",
       " 'csse_covid_19_data/csse_covid_19_daily_reports/01-29-2020.csv',\n",
       " 'csse_covid_19_data/csse_covid_19_daily_reports/01-30-2020.csv',\n",
       " 'csse_covid_19_data/csse_covid_19_daily_reports/01-31-2020.csv']"
      ]
     },
     "execution_count": 4,
     "metadata": {},
     "output_type": "execute_result"
    }
   ],
   "source": [
    "# check, whether filoc works properly\n",
    "loc.list_paths()[:10]"
   ]
  },
  {
   "cell_type": "markdown",
   "metadata": {},
   "source": [
    "... everything is fine, we see that <span class=\"filoc\">filoc</span> fetched the files information from the github repository.\n",
    "\n",
    "Now we can download the data into a pandas DataFrame. This step can last a few minutes, depending of you internet connection:"
   ]
  },
  {
   "cell_type": "code",
   "execution_count": 5,
   "metadata": {},
   "outputs": [
    {
     "name": "stdout",
     "output_type": "stream",
     "text": [
      "840124\n"
     ]
    }
   ],
   "source": [
    "df_raw = loc.read_contents()\n",
    "\n",
    "print(len(df_raw))"
   ]
  },
  {
   "cell_type": "markdown",
   "metadata": {},
   "source": [
    "The whole covid-19 data set has been loaded... now we can start the data cleaning!"
   ]
  },
  {
   "cell_type": "markdown",
   "metadata": {},
   "source": [
    "## Explore and clean data"
   ]
  },
  {
   "cell_type": "markdown",
   "metadata": {},
   "source": [
    "### Column Cleaning"
   ]
  },
  {
   "cell_type": "markdown",
   "metadata": {},
   "source": [
    "First make a copy... so that you can revert the data to the original state during the exploration \"try and error\" work"
   ]
  },
  {
   "cell_type": "code",
   "execution_count": 6,
   "metadata": {},
   "outputs": [],
   "source": [
    "df_all = df_raw.copy()"
   ]
  },
  {
   "cell_type": "markdown",
   "metadata": {},
   "source": [
    "Check the downloaded columns"
   ]
  },
  {
   "cell_type": "code",
   "execution_count": 7,
   "metadata": {},
   "outputs": [
    {
     "data": {
      "text/plain": [
       "Province/State         object\n",
       "Country/Region         object\n",
       "Last Update            object\n",
       "Confirmed              object\n",
       "Deaths                 object\n",
       "Recovered              object\n",
       "date_str               object\n",
       "Latitude               object\n",
       "Longitude              object\n",
       "FIPS                   object\n",
       "Admin2                 object\n",
       "Province_State         object\n",
       "Country_Region         object\n",
       "Last_Update            object\n",
       "Lat                    object\n",
       "Long_                  object\n",
       "Active                 object\n",
       "Combined_Key           object\n",
       "Incidence_Rate         object\n",
       "Case-Fatality_Ratio    object\n",
       "dtype: object"
      ]
     },
     "execution_count": 7,
     "metadata": {},
     "output_type": "execute_result"
    }
   ],
   "source": [
    "df_all.dtypes"
   ]
  },
  {
   "cell_type": "markdown",
   "metadata": {},
   "source": [
    "The CSV Backend does not perform any conversion, so all columns are loaded as string (in pandas `object` column type).\n",
    "\n",
    "After a \"try and error\" session, the column cleaning looks like as follow:"
   ]
  },
  {
   "cell_type": "code",
   "execution_count": 8,
   "metadata": {},
   "outputs": [],
   "source": [
    "# Basic column cleaning\n",
    "df_all['country']        = df_all['Country/Region'].combine_first(df_all['Country_Region']).fillna(\"\").replace([\"None\"], \"\")\n",
    "df_all['province']       = df_all['Province/State'].combine_first(df_all['Province_State']).fillna(\"\").replace([\"None\"], \"\")\n",
    "df_all['date']           = pd.to_datetime(df_all['date_str'])\n",
    "df_all['confirmed']      = pd.to_numeric(df_all['Confirmed'], errors='coerce')\n",
    "df_all['recovered']      = pd.to_numeric(df_all['Recovered'], errors='coerce')\n",
    "df_all['deaths']         = pd.to_numeric(df_all['Deaths'], errors='coerce')\n",
    "\n",
    "df_all = df_all[['country', 'province', 'date', 'confirmed', 'recovered', 'deaths']].copy()\n",
    "df_all = df_all.reset_index(drop=True)"
   ]
  },
  {
   "cell_type": "markdown",
   "metadata": {},
   "source": [
    "Now we can re-check the columns after cleaning:"
   ]
  },
  {
   "cell_type": "code",
   "execution_count": 9,
   "metadata": {},
   "outputs": [
    {
     "data": {
      "text/plain": [
       "country              object\n",
       "province             object\n",
       "date         datetime64[ns]\n",
       "confirmed           float64\n",
       "recovered           float64\n",
       "deaths              float64\n",
       "dtype: object"
      ]
     },
     "execution_count": 9,
     "metadata": {},
     "output_type": "execute_result"
    }
   ],
   "source": [
    "df_all.dtypes"
   ]
  },
  {
   "cell_type": "markdown",
   "metadata": {},
   "source": [
    "## Country / Province Cleaning\n",
    "\n",
    "The downloaded data are historical raw data and contains some variations and errors, that we need to fix. Again, it is an iterative \"try and error\" work. \n",
    "\n",
    "First we need to get an efficient visualization, to get as much useful information in as few lines as possible.\n",
    "\n",
    "Here we aggregate the data by country/province:"
   ]
  },
  {
   "cell_type": "code",
   "execution_count": 10,
   "metadata": {},
   "outputs": [
    {
     "data": {
      "text/plain": [
       "1005"
      ]
     },
     "execution_count": 10,
     "metadata": {},
     "output_type": "execute_result"
    }
   ],
   "source": [
    "# build group-by (including helper function to rebuild the group-by sets)\n",
    "\n",
    "df_by_country          = None\n",
    "df_by_country_province = None\n",
    "\n",
    "def make_groups():\n",
    "    global df_by_country, df_by_country_province\n",
    "    df_by_country          = df_all.groupby(by=['country'])\n",
    "    df_by_country_province = df_all.groupby(by=['country', 'province'])\n",
    "\n",
    "make_groups()\n",
    "len(df_by_country_province)"
   ]
  },
  {
   "cell_type": "markdown",
   "metadata": {},
   "source": [
    "and we can display the aggregations:"
   ]
  },
  {
   "cell_type": "code",
   "execution_count": 11,
   "metadata": {},
   "outputs": [
    {
     "data": {
      "text/html": [
       "<div>\n",
       "<style scoped>\n",
       "    .dataframe tbody tr th:only-of-type {\n",
       "        vertical-align: middle;\n",
       "    }\n",
       "\n",
       "    .dataframe tbody tr th {\n",
       "        vertical-align: top;\n",
       "    }\n",
       "\n",
       "    .dataframe thead tr th {\n",
       "        text-align: left;\n",
       "    }\n",
       "\n",
       "    .dataframe thead tr:last-of-type th {\n",
       "        text-align: right;\n",
       "    }\n",
       "</style>\n",
       "<table border=\"1\" class=\"dataframe\">\n",
       "  <thead>\n",
       "    <tr>\n",
       "      <th></th>\n",
       "      <th></th>\n",
       "      <th colspan=\"2\" halign=\"left\">date</th>\n",
       "      <th colspan=\"2\" halign=\"left\">confirmed</th>\n",
       "      <th colspan=\"2\" halign=\"left\">recovered</th>\n",
       "      <th colspan=\"2\" halign=\"left\">deaths</th>\n",
       "    </tr>\n",
       "    <tr>\n",
       "      <th></th>\n",
       "      <th></th>\n",
       "      <th>Min</th>\n",
       "      <th>Max</th>\n",
       "      <th>Min</th>\n",
       "      <th>Max</th>\n",
       "      <th>Min</th>\n",
       "      <th>Max</th>\n",
       "      <th>Min</th>\n",
       "      <th>Max</th>\n",
       "    </tr>\n",
       "    <tr>\n",
       "      <th>country</th>\n",
       "      <th>province</th>\n",
       "      <th></th>\n",
       "      <th></th>\n",
       "      <th></th>\n",
       "      <th></th>\n",
       "      <th></th>\n",
       "      <th></th>\n",
       "      <th></th>\n",
       "      <th></th>\n",
       "    </tr>\n",
       "  </thead>\n",
       "  <tbody>\n",
       "    <tr>\n",
       "      <th></th>\n",
       "      <th></th>\n",
       "      <td>2020-11-03</td>\n",
       "      <td>2020-11-03</td>\n",
       "      <td>0.0</td>\n",
       "      <td>0.0</td>\n",
       "      <td>0.0</td>\n",
       "      <td>0.0</td>\n",
       "      <td>0.0</td>\n",
       "      <td>0.0</td>\n",
       "    </tr>\n",
       "    <tr>\n",
       "      <th>Azerbaijan</th>\n",
       "      <th></th>\n",
       "      <td>2020-02-28</td>\n",
       "      <td>2020-02-28</td>\n",
       "      <td>1.0</td>\n",
       "      <td>1.0</td>\n",
       "      <td>0.0</td>\n",
       "      <td>0.0</td>\n",
       "      <td>0.0</td>\n",
       "      <td>0.0</td>\n",
       "    </tr>\n",
       "    <tr>\n",
       "      <th>Afghanistan</th>\n",
       "      <th></th>\n",
       "      <td>2020-02-24</td>\n",
       "      <td>2020-11-03</td>\n",
       "      <td>1.0</td>\n",
       "      <td>41728.0</td>\n",
       "      <td>0.0</td>\n",
       "      <td>34355.0</td>\n",
       "      <td>0.0</td>\n",
       "      <td>1544.0</td>\n",
       "    </tr>\n",
       "    <tr>\n",
       "      <th>Albania</th>\n",
       "      <th></th>\n",
       "      <td>2020-03-09</td>\n",
       "      <td>2020-11-03</td>\n",
       "      <td>2.0</td>\n",
       "      <td>21904.0</td>\n",
       "      <td>0.0</td>\n",
       "      <td>11473.0</td>\n",
       "      <td>0.0</td>\n",
       "      <td>532.0</td>\n",
       "    </tr>\n",
       "    <tr>\n",
       "      <th>Algeria</th>\n",
       "      <th></th>\n",
       "      <td>2020-02-25</td>\n",
       "      <td>2020-11-03</td>\n",
       "      <td>1.0</td>\n",
       "      <td>58979.0</td>\n",
       "      <td>0.0</td>\n",
       "      <td>40577.0</td>\n",
       "      <td>0.0</td>\n",
       "      <td>1980.0</td>\n",
       "    </tr>\n",
       "    <tr>\n",
       "      <th>...</th>\n",
       "      <th>...</th>\n",
       "      <td>...</td>\n",
       "      <td>...</td>\n",
       "      <td>...</td>\n",
       "      <td>...</td>\n",
       "      <td>...</td>\n",
       "      <td>...</td>\n",
       "      <td>...</td>\n",
       "      <td>...</td>\n",
       "    </tr>\n",
       "    <tr>\n",
       "      <th>Western Sahara</th>\n",
       "      <th></th>\n",
       "      <td>2020-04-05</td>\n",
       "      <td>2020-11-03</td>\n",
       "      <td>4.0</td>\n",
       "      <td>10.0</td>\n",
       "      <td>0.0</td>\n",
       "      <td>8.0</td>\n",
       "      <td>0.0</td>\n",
       "      <td>1.0</td>\n",
       "    </tr>\n",
       "    <tr>\n",
       "      <th>Yemen</th>\n",
       "      <th></th>\n",
       "      <td>2020-04-10</td>\n",
       "      <td>2020-11-03</td>\n",
       "      <td>1.0</td>\n",
       "      <td>2063.0</td>\n",
       "      <td>0.0</td>\n",
       "      <td>1375.0</td>\n",
       "      <td>0.0</td>\n",
       "      <td>601.0</td>\n",
       "    </tr>\n",
       "    <tr>\n",
       "      <th>Zambia</th>\n",
       "      <th></th>\n",
       "      <td>2020-03-18</td>\n",
       "      <td>2020-11-03</td>\n",
       "      <td>2.0</td>\n",
       "      <td>16661.0</td>\n",
       "      <td>0.0</td>\n",
       "      <td>15763.0</td>\n",
       "      <td>0.0</td>\n",
       "      <td>349.0</td>\n",
       "    </tr>\n",
       "    <tr>\n",
       "      <th>Zimbabwe</th>\n",
       "      <th></th>\n",
       "      <td>2020-03-20</td>\n",
       "      <td>2020-11-03</td>\n",
       "      <td>1.0</td>\n",
       "      <td>8410.0</td>\n",
       "      <td>0.0</td>\n",
       "      <td>7942.0</td>\n",
       "      <td>0.0</td>\n",
       "      <td>246.0</td>\n",
       "    </tr>\n",
       "    <tr>\n",
       "      <th>occupied Palestinian territory</th>\n",
       "      <th></th>\n",
       "      <td>2020-03-10</td>\n",
       "      <td>2020-03-17</td>\n",
       "      <td>0.0</td>\n",
       "      <td>25.0</td>\n",
       "      <td>0.0</td>\n",
       "      <td>0.0</td>\n",
       "      <td>0.0</td>\n",
       "      <td>0.0</td>\n",
       "    </tr>\n",
       "  </tbody>\n",
       "</table>\n",
       "<p>1005 rows × 8 columns</p>\n",
       "</div>"
      ],
      "text/plain": [
       "                                              date            confirmed  \\\n",
       "                                               Min        Max       Min   \n",
       "country                        province                                   \n",
       "                                        2020-11-03 2020-11-03       0.0   \n",
       " Azerbaijan                             2020-02-28 2020-02-28       1.0   \n",
       "Afghanistan                             2020-02-24 2020-11-03       1.0   \n",
       "Albania                                 2020-03-09 2020-11-03       2.0   \n",
       "Algeria                                 2020-02-25 2020-11-03       1.0   \n",
       "...                                            ...        ...       ...   \n",
       "Western Sahara                          2020-04-05 2020-11-03       4.0   \n",
       "Yemen                                   2020-04-10 2020-11-03       1.0   \n",
       "Zambia                                  2020-03-18 2020-11-03       2.0   \n",
       "Zimbabwe                                2020-03-20 2020-11-03       1.0   \n",
       "occupied Palestinian territory          2020-03-10 2020-03-17       0.0   \n",
       "\n",
       "                                                 recovered          deaths  \\\n",
       "                                             Max       Min      Max    Min   \n",
       "country                        province                                      \n",
       "                                             0.0       0.0      0.0    0.0   \n",
       " Azerbaijan                                  1.0       0.0      0.0    0.0   \n",
       "Afghanistan                              41728.0       0.0  34355.0    0.0   \n",
       "Albania                                  21904.0       0.0  11473.0    0.0   \n",
       "Algeria                                  58979.0       0.0  40577.0    0.0   \n",
       "...                                          ...       ...      ...    ...   \n",
       "Western Sahara                              10.0       0.0      8.0    0.0   \n",
       "Yemen                                     2063.0       0.0   1375.0    0.0   \n",
       "Zambia                                   16661.0       0.0  15763.0    0.0   \n",
       "Zimbabwe                                  8410.0       0.0   7942.0    0.0   \n",
       "occupied Palestinian territory              25.0       0.0      0.0    0.0   \n",
       "\n",
       "                                                 \n",
       "                                            Max  \n",
       "country                        province          \n",
       "                                            0.0  \n",
       " Azerbaijan                                 0.0  \n",
       "Afghanistan                              1544.0  \n",
       "Albania                                   532.0  \n",
       "Algeria                                  1980.0  \n",
       "...                                         ...  \n",
       "Western Sahara                              1.0  \n",
       "Yemen                                     601.0  \n",
       "Zambia                                    349.0  \n",
       "Zimbabwe                                  246.0  \n",
       "occupied Palestinian territory              0.0  \n",
       "\n",
       "[1005 rows x 8 columns]"
      ]
     },
     "metadata": {},
     "output_type": "display_data"
    }
   ],
   "source": [
    "df = df_by_country_province.agg([('Min' , 'min'), ('Max', 'max')])\n",
    "with pd.option_context(\"display.max_rows\", 10): # change the count of rows, to display more!\n",
    "    display(df)"
   ]
  },
  {
   "cell_type": "markdown",
   "metadata": {},
   "source": [
    "If you look into the long list, you will notice, some naming issues. As well as date range issues. For a few countries, the data granularity increased at some point in the past from country level data to province level data. We need to compute ourself the country level aggregations from this point on.\n",
    "\n",
    "So after a few \"try and error\" iterations, we get the following data cleaning:"
   ]
  },
  {
   "cell_type": "code",
   "execution_count": 12,
   "metadata": {},
   "outputs": [],
   "source": [
    "# Special fixes based on date min-max explorations\n",
    "\n",
    "# Rename 'Hong Kong' country name to 'Hong Kong SAR'\n",
    "df_all.loc[ df_all['country'] == 'Hong Kong'     , 'country'] = 'Hong Kong SAR'\n",
    "\n",
    "# Rename 'Mainland China' country name to 'China'\n",
    "df_all.loc[ df_all['country'] == 'Mainland China', 'country'] = 'China'\n",
    "\n",
    "# Delete Country/Province: France/France \n",
    "df_all = df_all.drop(df_all.index[(df_all['country'] == 'France') & (df_all['province'] == 'France')])\n",
    "\n",
    "# For 'United Kingdom' Country, rename provinces 'UK' and '' to 'United Kingdom'\n",
    "df_all.loc[ (df_all['country'] == 'United Kingdom') & df_all['province'].isin(['UK', '']), 'province'] = 'United Kingdom'\n",
    "\n",
    "# For 'Germany' Country, rename provinces 'Bavaria' to 'Bayern'\n",
    "df_all.loc[ (df_all['country'] == 'Germany'       ) & df_all['province'].isin(['Bavaria']), 'province'] = 'Bayern'\n",
    "\n",
    "# For 'France' Country, unnamed province '' is not the aggregate of province subdivisions, but the Mainland\n",
    "df_all.loc[ (df_all['country'] == 'France'        ) & df_all['province'].isin([''])       , 'province'] = 'Mainland'\n",
    "\n",
    "# Rename all empty province '' by '<all>' (the aggregation at country level):\n",
    "df_all.loc[df_all['province'] == '', 'province'] = '<all>'\n",
    "\n",
    "# refresh group-bys\n",
    "make_groups()"
   ]
  },
  {
   "cell_type": "code",
   "execution_count": 13,
   "metadata": {},
   "outputs": [
    {
     "name": "stdout",
     "output_type": "stream",
     "text": [
      "Fixing Australia\n",
      "Fixing Brazil\n",
      "Fixing Canada\n",
      "Fixing Chile\n",
      "Fixing China\n",
      "Fixing Colombia\n",
      "Fixing Germany\n",
      "Fixing India\n",
      "Fixing Italy\n",
      "Fixing Japan\n",
      "Fixing China\n",
      "Fixing Mexico\n",
      "Fixing Netherlands\n",
      "Fixing Pakistan\n",
      "Fixing Peru\n",
      "Fixing Russia\n",
      "Fixing Spain\n",
      "Fixing Sweden\n",
      "Fixing Ukraine\n"
     ]
    }
   ],
   "source": [
    "# Fix country data, were data at country level were replaced by data at province level -> we now need to aggregate ourself the province data\n",
    "\n",
    "Fix = namedtuple(\"Fix\", [\"country\", \"last_aggr_date\"])\n",
    "fixes = [    \n",
    "    Fix('Australia'  , '2020-01-01'),\n",
    "    Fix('Brazil'     , '2020-05-19'),\n",
    "    Fix('Canada'     , '2010-01-01'),\n",
    "    Fix('Chile'      , '2020-05-19'),\n",
    "    Fix('China'      , '2010-01-01'),\n",
    "    Fix('Colombia'   , '2020-05-27'),\n",
    "    Fix('Germany'    , '2020-05-13'),\n",
    "    Fix('India'      , '2020-06-09'),\n",
    "    Fix('Italy'      , '2020-05-13'),\n",
    "    Fix('Japan'      , '2020-05-27'),\n",
    "    Fix('China'      , '2010-01-01'),\n",
    "    Fix('Mexico'     , '2020-05-19'),\n",
    "    Fix('Netherlands', '2020-07-16'),\n",
    "    Fix('Pakistan'   , '2020-06-09'),\n",
    "    Fix('Peru'       , '2020-05-27'),\n",
    "    Fix('Russia'     , '2020-05-31'),\n",
    "    Fix('Spain'      , '2020-05-13'),\n",
    "    Fix('Sweden'     , '2020-06-04'),\n",
    "    Fix('Ukraine'    , '2020-05-31'),    \n",
    "]\n",
    "\n",
    "for fix in fixes:\n",
    "    print(f'Fixing {fix.country}')\n",
    "    aggr_data_to_delete = df_all.index[  (df_all['country'] == fix.country) & (df_all['province'] == '<all>') & (df_all['date'] > fix.last_aggr_date)  ]\n",
    "    data_to_aggr        = df_all      [  (df_all['country'] == fix.country) & (df_all['province'] != '<all>') & (df_all['date'] > fix.last_aggr_date)  ]\n",
    "    df_all = df_all.drop(aggr_data_to_delete)\n",
    "\n",
    "    aggr_data_to_add = data_to_aggr.groupby('date').sum()\n",
    "    aggr_data_to_add['country'] = fix.country\n",
    "    aggr_data_to_add['province'] = '<all>'\n",
    "    aggr_data_to_add['date'] = aggr_data_to_add.index\n",
    "\n",
    "    df_all = pd.concat([df_all, aggr_data_to_add], ignore_index=True)\n",
    "\n",
    "make_groups()"
   ]
  },
  {
   "cell_type": "markdown",
   "metadata": {},
   "source": [
    "# Save data by country / Province ⭐\n",
    "\n",
    "Just to illustrate an interesting feature of the <span class=\"filoc\">filoc</span> framework: you can easily save the cleaned data into an alternative file structure suiting your needs. Here for example, we save the historical data by country / province.\n",
    "\n",
    "First we instantiate a <span class=\"filoc\">filoc</span> with the expected new path structure:"
   ]
  },
  {
   "cell_type": "code",
   "execution_count": 14,
   "metadata": {},
   "outputs": [],
   "source": [
    "loc_save = filoc(\n",
    "    locpath='~/temp/covid/{country}/{province}/whole_history.csv', \n",
    "    backend='csv', \n",
    "    singleton=False, \n",
    "    writable=True\n",
    ")"
   ]
  },
  {
   "cell_type": "markdown",
   "metadata": {},
   "source": [
    "Then just save the data:"
   ]
  },
  {
   "cell_type": "code",
   "execution_count": 15,
   "metadata": {},
   "outputs": [],
   "source": [
    "loc_save.write_contents(df_all)"
   ]
  },
  {
   "cell_type": "markdown",
   "metadata": {},
   "source": [
    "You can check the fist of files created by <span class=\"filoc\">filoc</span>:"
   ]
  },
  {
   "cell_type": "code",
   "execution_count": 16,
   "metadata": {},
   "outputs": [
    {
     "name": "stdout",
     "output_type": "stream",
     "text": [
      "/home/jerom/temp/covid/Uganda/<all>/whole_history.csv\n",
      "/home/jerom/temp/covid/Central African Republic/<all>/whole_history.csv\n",
      "/home/jerom/temp/covid/Malawi/<all>/whole_history.csv\n",
      "/home/jerom/temp/covid/Syria/<all>/whole_history.csv\n",
      "/home/jerom/temp/covid/United Arab Emirates/<all>/whole_history.csv\n",
      "/home/jerom/temp/covid/India/Haryana/whole_history.csv\n",
      "/home/jerom/temp/covid/India/Madhya Pradesh/whole_history.csv\n",
      "/home/jerom/temp/covid/India/Goa/whole_history.csv\n",
      "/home/jerom/temp/covid/India/Andhra Pradesh/whole_history.csv\n",
      "/home/jerom/temp/covid/India/Lakshadweep/whole_history.csv\n"
     ]
    }
   ],
   "source": [
    "! find ~/temp/covid -type f 2>/dev/null | head -n 10 # change 10 to increase the amount of printed lines"
   ]
  },
  {
   "cell_type": "markdown",
   "metadata": {},
   "source": [
    "## Display Data with matplotlib"
   ]
  },
  {
   "cell_type": "markdown",
   "metadata": {},
   "source": [
    "### Plot history for a single country"
   ]
  },
  {
   "cell_type": "code",
   "execution_count": 17,
   "metadata": {},
   "outputs": [],
   "source": [
    "country_province_filter = ('France' , 'Mainland',)\n",
    "indicators = [ 'confirmed', 'recovered', 'deaths' ]"
   ]
  },
  {
   "cell_type": "code",
   "execution_count": 18,
   "metadata": {},
   "outputs": [
    {
     "data": {
      "image/png": "[encoded data removed]",
      "text/plain": [
       "<Figure size 1080x576 with 1 Axes>"
      ]
     },
     "metadata": {
      "needs_background": "light"
     },
     "output_type": "display_data"
    }
   ],
   "source": [
    "plt.rcParams['figure.figsize'] = [15, 8]\n",
    "ax = plt.gca()\n",
    "df_cp = df_by_country_province.get_group(country_province_filter)\n",
    "df_cp.plot(x='date', y=indicators, ax=ax);"
   ]
  },
  {
   "cell_type": "markdown",
   "metadata": {},
   "source": [
    "### Plot the 'confirmed' indicator for multiple countries"
   ]
  },
  {
   "cell_type": "code",
   "execution_count": 19,
   "metadata": {},
   "outputs": [],
   "source": [
    "indicator = 'confirmed'\n",
    "country_province_filter = [\n",
    "    ('France' , 'Mainland'),\n",
    "    ('Germany', '<all>'),\n",
    "    ('Spain'  , '<all>'),\n",
    "]"
   ]
  },
  {
   "cell_type": "code",
   "execution_count": 20,
   "metadata": {},
   "outputs": [
    {
     "data": {
      "image/png": "[encoded data removed]",
      "text/plain": [
       "<Figure size 1080x576 with 1 Axes>"
      ]
     },
     "metadata": {
      "needs_background": "light"
     },
     "output_type": "display_data"
    }
   ],
   "source": [
    "plt.rcParams['figure.figsize'] = [15, 8]\n",
    "ax = plt.gca()\n",
    "ax.set_title(indicator)\n",
    "for cp in country_province_filter:\n",
    "    label = f'{cp[0]} {cp[1]}'\n",
    "    df_cp = df_by_country_province.get_group(cp)\n",
    "    df_cp.plot(x='date', y=indicator, ax=ax, label=label);"
   ]
  },
  {
   "cell_type": "markdown",
   "metadata": {},
   "source": [
    "## Display a dash/plotly Dashboard"
   ]
  },
  {
   "cell_type": "code",
   "execution_count": 21,
   "metadata": {},
   "outputs": [],
   "source": [
    "from jupyter_dash import JupyterDash\n",
    "import dash\n",
    "import dash_core_components as dcc\n",
    "import dash_html_components as html\n",
    "from dash.dependencies import Input, Output"
   ]
  },
  {
   "cell_type": "code",
   "execution_count": 22,
   "metadata": {},
   "outputs": [],
   "source": [
    "# ENABLE THIS WHEN RUNNING IN JupyterHub or Binder\n",
    "#JupyterDash.infer_jupyter_proxy_config()"
   ]
  },
  {
   "cell_type": "code",
   "execution_count": 23,
   "metadata": {},
   "outputs": [],
   "source": [
    "# helper function\n",
    "def to_options(values, unique=True, sort=True):\n",
    "    \"\"\" helper dropdown options builder \"\"\"\n",
    "    if unique: values = values.unique()\n",
    "    if sort  : values = sorted(values)        \n",
    "    return [{'label': i, 'value': i} for i in values]"
   ]
  },
  {
   "cell_type": "code",
   "execution_count": 24,
   "metadata": {},
   "outputs": [],
   "source": [
    "# Build the app\n",
    "external_stylesheets = ['https://codepen.io/chriddyp/pen/bWLwgP.css']\n",
    "\n",
    "app = JupyterDash('Covid 19 Stats', external_stylesheets=external_stylesheets)\n",
    "server = app.server\n",
    "\n",
    "app.layout = html.Div([\n",
    "    html.Div([\n",
    "        html.Div([\n",
    "            '''Choose a country:''',\n",
    "            dcc.Dropdown('country', to_options(df_all.country)),\n",
    "        ], style={'width': '49%', 'display': 'inline-block'}),\n",
    "        html.Div([\n",
    "            '''Choose a province:''',\n",
    "            dcc.Dropdown('province', disabled=True),\n",
    "        ], style={'width': '49%', 'float': 'right', 'display': 'inline-block'}),\n",
    "    ], style={\n",
    "        'borderBottom': 'thin lightgrey solid',\n",
    "        'backgroundColor': 'rgb(250, 250, 250)',\n",
    "        'padding': '10px 5px'}),\n",
    "    html.Div([\n",
    "        dcc.Graph('country-chart')\n",
    "    ], style={'width': '98%', 'display': 'inline-block', 'padding': '0 20'}),\n",
    "])\n",
    "\n",
    "@app.callback([\n",
    "    Output('province', 'disabled'),\n",
    "    Output('province', 'options'),\n",
    "], Input('country', 'value'))\n",
    "def update_province(country):\n",
    "    if country != '':\n",
    "        return False, to_options(df_all.province[df_all['country'] == country])\n",
    "    else:\n",
    "        return True, None\n",
    "        \n",
    "@app.callback(Output('country-chart', 'figure'), [Input('country', 'value'), Input('province', 'value')])\n",
    "def update_graph(country, province):\n",
    "    df = df_all[ (df_all['country'] == country) & (df_all['province'] == province) ]\n",
    "    indicator = 'deaths'\n",
    "    return {\n",
    "        'data': [ {\n",
    "            'x' : df['date'],\n",
    "            'y' : df['confirmed'],\n",
    "            'mode' : 'lines',\n",
    "            'name' : 'confirmed'\n",
    "        }, {\n",
    "            'x' : df['date'],\n",
    "            'y' : df['deaths'],\n",
    "            'mode' : 'lines',\n",
    "            'name' : 'deaths'\n",
    "        }],\n",
    "        'layout': {\n",
    "            'height': 500,\n",
    "            'margin': {'l': 30, 'b': 30, 'r': 10, 't': 10},\n",
    "            'annotations': [{\n",
    "                'x': 0, 'y': 0.85, 'xanchor': 'left', 'yanchor': 'bottom',\n",
    "                'xref': 'paper', 'yref': 'paper', 'showarrow': False,\n",
    "                'align': 'left', 'bgcolor': 'rgba(255, 255, 255, 0.5)',\n",
    "                'text': f'{country} ({province}) {indicator}'\n",
    "            }],\n",
    "            'yaxis': {'type': 'linear' },\n",
    "            'xaxis': {'showgrid': False}\n",
    "        }\n",
    "    }"
   ]
  },
  {
   "cell_type": "markdown",
   "metadata": {},
   "source": [
    "Finally run the Dash app!\n",
    "\n",
    "Remark: in the html static preview, the following cell remains empty, as its content requires the dash server to run "
   ]
  },
  {
   "cell_type": "code",
   "execution_count": 25,
   "metadata": {
    "tags": [
     "hide_cell"
    ]
   },
   "outputs": [
    {
     "data": {
      "text/html": [
       "\n",
       "        <iframe\n",
       "            width=\"100%\"\n",
       "            height=\"650\"\n",
       "            src=\"http://127.0.0.1:8050/\"\n",
       "            frameborder=\"0\"\n",
       "            allowfullscreen\n",
       "        ></iframe>\n",
       "        "
      ],
      "text/plain": [
       "<IPython.lib.display.IFrame at 0x7fc0c95e8310>"
      ]
     },
     "metadata": {},
     "output_type": "display_data"
    }
   ],
   "source": [
    "# run the app \n",
    "#app.run_server(mode=\"jupyterlab\")\n",
    "app.run_server(mode=\"inline\")"
   ]
  },
  {
   "cell_type": "markdown",
   "metadata": {},
   "source": [
    "\n",
    "```python\n",
    "# run the app \n",
    "#app.run_server(mode=\"jupyterlab\")\n",
    "app.run_server(mode=\"inline\")\n",
    "```\n",
    "\n",
    "![dash_screenshot](img/dash_screenshot.png)"
   ]
  },
  {
   "cell_type": "code",
   "execution_count": null,
   "metadata": {},
   "outputs": [],
   "source": []
  }
 ],
 "metadata": {
  "kernelspec": {
   "display_name": "Python 3",
   "language": "python",
   "name": "python3"
  },
  "language_info": {
   "codemirror_mode": {
    "name": "ipython",
    "version": 3
   },
   "file_extension": ".py",
   "mimetype": "text/x-python",
   "name": "python",
   "nbconvert_exporter": "python",
   "pygments_lexer": "ipython3",
   "version": "3.8.2"
  }
 },
 "nbformat": 4,
 "nbformat_minor": 4
}
