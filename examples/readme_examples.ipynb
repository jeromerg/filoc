{
 "metadata": {
  "language_info": {
   "codemirror_mode": {
    "name": "ipython",
    "version": 3
   },
   "file_extension": ".py",
   "mimetype": "text/x-python",
   "name": "python",
   "nbconvert_exporter": "python",
   "pygments_lexer": "ipython3",
   "version": "3.8.2-final"
  },
  "orig_nbformat": 2,
  "kernelspec": {
   "name": "Python 3.8.2 64-bit",
   "display_name": "Python 3.8.2 64-bit",
   "metadata": {
    "interpreter": {
     "hash": "31f2aee4e71d21fbe5cf8b01ff0e069b9275f58929596ceb00d14d90e3e16cd6"
    }
   }
  }
 },
 "nbformat": 4,
 "nbformat_minor": 2,
 "cells": [
  {
   "cell_type": "code",
   "execution_count": 1,
   "metadata": {},
   "outputs": [],
   "source": [
    "import os\n",
    "import sys\n",
    "sys.path.insert(0,os.path.abspath('../'))\n",
    "from filoc import filoc\n",
    "from pandas import DataFrame\n"
   ]
  },
  {
   "cell_type": "code",
   "execution_count": 2,
   "metadata": {},
   "outputs": [],
   "source": [
    "os.makedirs('/data', exist_ok=True)"
   ]
  },
  {
   "cell_type": "code",
   "execution_count": 80,
   "metadata": {},
   "outputs": [
    {
     "output_type": "stream",
     "name": "stdout",
     "text": [
      "   country customer  address           phone\n0   France      OVH  Roubaix    +33681906730\n1  Germany   Strato   Berlin    +49303001460\n2  Germany       DF   Munich  +4989998288026\n"
     ]
    }
   ],
   "source": [
    "loc = filoc('/data/{country}/{customer}/info.json', writable=True)\n",
    "\n",
    "df = DataFrame([\n",
    "    { 'country':'France' , 'customer':'OVH'   , 'address':'Roubaix', 'phone':\"+33681906730\"  },\n",
    "    { 'country':'Germany', 'customer':'Strato', 'address':'Berlin' , 'phone':\"+49303001460\"  },\n",
    "    { 'country':'Germany', 'customer':'DF'    , 'address':'Munich' , 'phone':\"+4989998288026\"},\n",
    "])\n",
    "print(df)"
   ]
  },
  {
   "cell_type": "code",
   "execution_count": 74,
   "metadata": {},
   "outputs": [],
   "source": [
    "loc.write_contents(df)"
   ]
  },
  {
   "cell_type": "code",
   "execution_count": 75,
   "metadata": {},
   "outputs": [
    {
     "output_type": "stream",
     "name": "stdout",
     "text": [
      "/data/Germany/DF/info.json\n/data/Germany/Strato/info.json\n/data/France/OVH/info.json\n"
     ]
    }
   ],
   "source": [
    "! find /data -type f"
   ]
  },
  {
   "cell_type": "code",
   "execution_count": 76,
   "metadata": {},
   "outputs": [
    {
     "output_type": "stream",
     "name": "stdout",
     "text": [
      "   address         phone  country customer\n0  Roubaix  +33681906730   France      OVH\n1   Munich                Germany       DF\n2   Berlin  +49303001460  Germany   Strato\n"
     ]
    }
   ],
   "source": [
    "from filoc import filoc\n",
    "loc = filoc('/data/{country}/{customer}/info.json')\n",
    "df = loc.read_contents()\n",
    "print(df)"
   ]
  },
  {
   "cell_type": "code",
   "execution_count": 77,
   "metadata": {},
   "outputs": [],
   "source": [
    "df.loc[1, \"phone\"] = \"+4989998288026\""
   ]
  },
  {
   "cell_type": "code",
   "execution_count": 78,
   "metadata": {},
   "outputs": [],
   "source": [
    "loc = filoc('/data/{country}/{customer}/info.json', writable=True)\n",
    "loc.write_contents(df)"
   ]
  },
  {
   "cell_type": "code",
   "execution_count": 79,
   "metadata": {},
   "outputs": [
    {
     "output_type": "stream",
     "name": "stdout",
     "text": [
      "   address           phone  country customer\n0  Roubaix    +33681906730   France      OVH\n1   Munich  +4989998288026  Germany       DF\n2   Berlin    +49303001460  Germany   Strato\n"
     ]
    }
   ],
   "source": [
    "print(df)"
   ]
  },
  {
   "cell_type": "code",
   "execution_count": 51,
   "metadata": {},
   "outputs": [
    {
     "output_type": "stream",
     "name": "stdout",
     "text": [
      "Empty DataFrame\nColumns: []\nIndex: []\n"
     ]
    }
   ],
   "source": [
    "print(loc.read_contents())"
   ]
  },
  {
   "cell_type": "code",
   "execution_count": 81,
   "metadata": {},
   "outputs": [
    {
     "output_type": "stream",
     "name": "stdout",
     "text": [
      "address             Munich\nphone       +4989998288026\ncountry            Germany\ncustomer                DF\ndtype: object\n"
     ]
    }
   ],
   "source": [
    "series = loc.read_content(country='Germany', customer='DF')\n",
    "print(series)\n"
   ]
  },
  {
   "cell_type": "code",
   "execution_count": 83,
   "metadata": {},
   "outputs": [
    {
     "output_type": "stream",
     "name": "stdout",
     "text": [
      "The customer address is: Munich\n"
     ]
    }
   ],
   "source": [
    "print(f'The customer address is: {series.address}')\n"
   ]
  },
  {
   "cell_type": "code",
   "execution_count": 90,
   "metadata": {},
   "outputs": [],
   "source": [
    "df.loc[df['customer'] == 'DF', 'address'] = 'Ismaning (by Munich)' "
   ]
  },
  {
   "cell_type": "code",
   "execution_count": 91,
   "metadata": {},
   "outputs": [
    {
     "output_type": "execute_result",
     "data": {
      "text/plain": [
       "   country customer               address           phone\n",
       "0   France      OVH    Ismaning by Munich    +33681906730\n",
       "1  Germany   Strato                Berlin    +49303001460\n",
       "2  Germany       DF  Ismaning (by Munich)  +4989998288026"
      ],
      "text/html": "<div>\n<style scoped>\n    .dataframe tbody tr th:only-of-type {\n        vertical-align: middle;\n    }\n\n    .dataframe tbody tr th {\n        vertical-align: top;\n    }\n\n    .dataframe thead th {\n        text-align: right;\n    }\n</style>\n<table border=\"1\" class=\"dataframe\">\n  <thead>\n    <tr style=\"text-align: right;\">\n      <th></th>\n      <th>country</th>\n      <th>customer</th>\n      <th>address</th>\n      <th>phone</th>\n    </tr>\n  </thead>\n  <tbody>\n    <tr>\n      <th>0</th>\n      <td>France</td>\n      <td>OVH</td>\n      <td>Ismaning by Munich</td>\n      <td>+33681906730</td>\n    </tr>\n    <tr>\n      <th>1</th>\n      <td>Germany</td>\n      <td>Strato</td>\n      <td>Berlin</td>\n      <td>+49303001460</td>\n    </tr>\n    <tr>\n      <th>2</th>\n      <td>Germany</td>\n      <td>DF</td>\n      <td>Ismaning (by Munich)</td>\n      <td>+4989998288026</td>\n    </tr>\n  </tbody>\n</table>\n</div>"
     },
     "metadata": {},
     "execution_count": 91
    }
   ],
   "source": [
    "df"
   ]
  },
  {
   "cell_type": "code",
   "execution_count": 93,
   "metadata": {},
   "outputs": [],
   "source": [
    "loc.write_contents(df)"
   ]
  },
  {
   "cell_type": "code",
   "execution_count": 94,
   "metadata": {},
   "outputs": [
    {
     "output_type": "stream",
     "name": "stdout",
     "text": [
      "{\n  \"address\": \"Ismaning (by Munich)\",\n  \"phone\": \"+4989998288026\"\n}"
     ]
    }
   ],
   "source": [
    "!cat /data/Germany/DF/info.json"
   ]
  },
  {
   "cell_type": "code",
   "execution_count": 3,
   "metadata": {},
   "outputs": [],
   "source": [
    "src = filoc('github://CSSEGISandData:COVID-19@/csse_covid_19_data/csse_covid_19_daily_reports/{date_str}.csv')\n"
   ]
  },
  {
   "cell_type": "code",
   "execution_count": 6,
   "metadata": {},
   "outputs": [
    {
     "output_type": "execute_result",
     "data": {
      "text/plain": [
       "[(0, 0), (2, 2), (4, 4), (6, 6), (8, 8)]"
      ]
     },
     "metadata": {},
     "execution_count": 6
    }
   ],
   "source": [
    "[ (idx, i) for idx, i in enumerate(range(10)) if i % 2 == 0]"
   ]
  },
  {
   "cell_type": "code",
   "execution_count": 4,
   "metadata": {},
   "outputs": [
    {
     "output_type": "execute_result",
     "data": {
      "text/plain": [
       "['csse_covid_19_data/csse_covid_19_daily_reports/01-22-2020.csv',\n",
       " 'csse_covid_19_data/csse_covid_19_daily_reports/01-23-2020.csv',\n",
       " 'csse_covid_19_data/csse_covid_19_daily_reports/01-24-2020.csv',\n",
       " 'csse_covid_19_data/csse_covid_19_daily_reports/01-25-2020.csv',\n",
       " 'csse_covid_19_data/csse_covid_19_daily_reports/01-26-2020.csv',\n",
       " 'csse_covid_19_data/csse_covid_19_daily_reports/01-27-2020.csv',\n",
       " 'csse_covid_19_data/csse_covid_19_daily_reports/01-28-2020.csv',\n",
       " 'csse_covid_19_data/csse_covid_19_daily_reports/01-29-2020.csv',\n",
       " 'csse_covid_19_data/csse_covid_19_daily_reports/01-30-2020.csv',\n",
       " 'csse_covid_19_data/csse_covid_19_daily_reports/01-31-2020.csv',\n",
       " 'csse_covid_19_data/csse_covid_19_daily_reports/02-01-2020.csv',\n",
       " 'csse_covid_19_data/csse_covid_19_daily_reports/02-02-2020.csv',\n",
       " 'csse_covid_19_data/csse_covid_19_daily_reports/02-03-2020.csv',\n",
       " 'csse_covid_19_data/csse_covid_19_daily_reports/02-04-2020.csv',\n",
       " 'csse_covid_19_data/csse_covid_19_daily_reports/02-05-2020.csv',\n",
       " 'csse_covid_19_data/csse_covid_19_daily_reports/02-06-2020.csv',\n",
       " 'csse_covid_19_data/csse_covid_19_daily_reports/02-07-2020.csv',\n",
       " 'csse_covid_19_data/csse_covid_19_daily_reports/02-08-2020.csv',\n",
       " 'csse_covid_19_data/csse_covid_19_daily_reports/02-09-2020.csv',\n",
       " 'csse_covid_19_data/csse_covid_19_daily_reports/02-10-2020.csv',\n",
       " 'csse_covid_19_data/csse_covid_19_daily_reports/02-11-2020.csv',\n",
       " 'csse_covid_19_data/csse_covid_19_daily_reports/02-12-2020.csv',\n",
       " 'csse_covid_19_data/csse_covid_19_daily_reports/02-13-2020.csv',\n",
       " 'csse_covid_19_data/csse_covid_19_daily_reports/02-14-2020.csv',\n",
       " 'csse_covid_19_data/csse_covid_19_daily_reports/02-15-2020.csv',\n",
       " 'csse_covid_19_data/csse_covid_19_daily_reports/02-16-2020.csv',\n",
       " 'csse_covid_19_data/csse_covid_19_daily_reports/02-17-2020.csv',\n",
       " 'csse_covid_19_data/csse_covid_19_daily_reports/02-18-2020.csv',\n",
       " 'csse_covid_19_data/csse_covid_19_daily_reports/02-19-2020.csv',\n",
       " 'csse_covid_19_data/csse_covid_19_daily_reports/02-20-2020.csv',\n",
       " 'csse_covid_19_data/csse_covid_19_daily_reports/02-21-2020.csv',\n",
       " 'csse_covid_19_data/csse_covid_19_daily_reports/02-22-2020.csv',\n",
       " 'csse_covid_19_data/csse_covid_19_daily_reports/02-23-2020.csv',\n",
       " 'csse_covid_19_data/csse_covid_19_daily_reports/02-24-2020.csv',\n",
       " 'csse_covid_19_data/csse_covid_19_daily_reports/02-25-2020.csv',\n",
       " 'csse_covid_19_data/csse_covid_19_daily_reports/02-26-2020.csv',\n",
       " 'csse_covid_19_data/csse_covid_19_daily_reports/02-27-2020.csv',\n",
       " 'csse_covid_19_data/csse_covid_19_daily_reports/02-28-2020.csv',\n",
       " 'csse_covid_19_data/csse_covid_19_daily_reports/02-29-2020.csv',\n",
       " 'csse_covid_19_data/csse_covid_19_daily_reports/03-01-2020.csv',\n",
       " 'csse_covid_19_data/csse_covid_19_daily_reports/03-02-2020.csv',\n",
       " 'csse_covid_19_data/csse_covid_19_daily_reports/03-03-2020.csv',\n",
       " 'csse_covid_19_data/csse_covid_19_daily_reports/03-04-2020.csv',\n",
       " 'csse_covid_19_data/csse_covid_19_daily_reports/03-05-2020.csv',\n",
       " 'csse_covid_19_data/csse_covid_19_daily_reports/03-06-2020.csv',\n",
       " 'csse_covid_19_data/csse_covid_19_daily_reports/03-07-2020.csv',\n",
       " 'csse_covid_19_data/csse_covid_19_daily_reports/03-08-2020.csv',\n",
       " 'csse_covid_19_data/csse_covid_19_daily_reports/03-09-2020.csv',\n",
       " 'csse_covid_19_data/csse_covid_19_daily_reports/03-10-2020.csv',\n",
       " 'csse_covid_19_data/csse_covid_19_daily_reports/03-11-2020.csv',\n",
       " 'csse_covid_19_data/csse_covid_19_daily_reports/03-12-2020.csv',\n",
       " 'csse_covid_19_data/csse_covid_19_daily_reports/03-13-2020.csv',\n",
       " 'csse_covid_19_data/csse_covid_19_daily_reports/03-14-2020.csv',\n",
       " 'csse_covid_19_data/csse_covid_19_daily_reports/03-15-2020.csv',\n",
       " 'csse_covid_19_data/csse_covid_19_daily_reports/03-16-2020.csv',\n",
       " 'csse_covid_19_data/csse_covid_19_daily_reports/03-17-2020.csv',\n",
       " 'csse_covid_19_data/csse_covid_19_daily_reports/03-18-2020.csv',\n",
       " 'csse_covid_19_data/csse_covid_19_daily_reports/03-19-2020.csv',\n",
       " 'csse_covid_19_data/csse_covid_19_daily_reports/03-20-2020.csv',\n",
       " 'csse_covid_19_data/csse_covid_19_daily_reports/03-21-2020.csv',\n",
       " 'csse_covid_19_data/csse_covid_19_daily_reports/03-22-2020.csv',\n",
       " 'csse_covid_19_data/csse_covid_19_daily_reports/03-23-2020.csv',\n",
       " 'csse_covid_19_data/csse_covid_19_daily_reports/03-24-2020.csv',\n",
       " 'csse_covid_19_data/csse_covid_19_daily_reports/03-25-2020.csv',\n",
       " 'csse_covid_19_data/csse_covid_19_daily_reports/03-26-2020.csv',\n",
       " 'csse_covid_19_data/csse_covid_19_daily_reports/03-27-2020.csv',\n",
       " 'csse_covid_19_data/csse_covid_19_daily_reports/03-28-2020.csv',\n",
       " 'csse_covid_19_data/csse_covid_19_daily_reports/03-29-2020.csv',\n",
       " 'csse_covid_19_data/csse_covid_19_daily_reports/03-30-2020.csv',\n",
       " 'csse_covid_19_data/csse_covid_19_daily_reports/03-31-2020.csv',\n",
       " 'csse_covid_19_data/csse_covid_19_daily_reports/04-01-2020.csv',\n",
       " 'csse_covid_19_data/csse_covid_19_daily_reports/04-02-2020.csv',\n",
       " 'csse_covid_19_data/csse_covid_19_daily_reports/04-03-2020.csv',\n",
       " 'csse_covid_19_data/csse_covid_19_daily_reports/04-04-2020.csv',\n",
       " 'csse_covid_19_data/csse_covid_19_daily_reports/04-05-2020.csv',\n",
       " 'csse_covid_19_data/csse_covid_19_daily_reports/04-06-2020.csv',\n",
       " 'csse_covid_19_data/csse_covid_19_daily_reports/04-07-2020.csv',\n",
       " 'csse_covid_19_data/csse_covid_19_daily_reports/04-08-2020.csv',\n",
       " 'csse_covid_19_data/csse_covid_19_daily_reports/04-09-2020.csv',\n",
       " 'csse_covid_19_data/csse_covid_19_daily_reports/04-10-2020.csv',\n",
       " 'csse_covid_19_data/csse_covid_19_daily_reports/04-11-2020.csv',\n",
       " 'csse_covid_19_data/csse_covid_19_daily_reports/04-12-2020.csv',\n",
       " 'csse_covid_19_data/csse_covid_19_daily_reports/04-13-2020.csv',\n",
       " 'csse_covid_19_data/csse_covid_19_daily_reports/04-14-2020.csv',\n",
       " 'csse_covid_19_data/csse_covid_19_daily_reports/04-15-2020.csv',\n",
       " 'csse_covid_19_data/csse_covid_19_daily_reports/04-16-2020.csv',\n",
       " 'csse_covid_19_data/csse_covid_19_daily_reports/04-17-2020.csv',\n",
       " 'csse_covid_19_data/csse_covid_19_daily_reports/04-18-2020.csv',\n",
       " 'csse_covid_19_data/csse_covid_19_daily_reports/04-19-2020.csv',\n",
       " 'csse_covid_19_data/csse_covid_19_daily_reports/04-20-2020.csv',\n",
       " 'csse_covid_19_data/csse_covid_19_daily_reports/04-21-2020.csv',\n",
       " 'csse_covid_19_data/csse_covid_19_daily_reports/04-22-2020.csv',\n",
       " 'csse_covid_19_data/csse_covid_19_daily_reports/04-23-2020.csv',\n",
       " 'csse_covid_19_data/csse_covid_19_daily_reports/04-24-2020.csv',\n",
       " 'csse_covid_19_data/csse_covid_19_daily_reports/04-25-2020.csv',\n",
       " 'csse_covid_19_data/csse_covid_19_daily_reports/04-26-2020.csv',\n",
       " 'csse_covid_19_data/csse_covid_19_daily_reports/04-27-2020.csv',\n",
       " 'csse_covid_19_data/csse_covid_19_daily_reports/04-28-2020.csv',\n",
       " 'csse_covid_19_data/csse_covid_19_daily_reports/04-29-2020.csv',\n",
       " 'csse_covid_19_data/csse_covid_19_daily_reports/04-30-2020.csv',\n",
       " 'csse_covid_19_data/csse_covid_19_daily_reports/05-01-2020.csv',\n",
       " 'csse_covid_19_data/csse_covid_19_daily_reports/05-02-2020.csv',\n",
       " 'csse_covid_19_data/csse_covid_19_daily_reports/05-03-2020.csv',\n",
       " 'csse_covid_19_data/csse_covid_19_daily_reports/05-04-2020.csv',\n",
       " 'csse_covid_19_data/csse_covid_19_daily_reports/05-05-2020.csv',\n",
       " 'csse_covid_19_data/csse_covid_19_daily_reports/05-06-2020.csv',\n",
       " 'csse_covid_19_data/csse_covid_19_daily_reports/05-07-2020.csv',\n",
       " 'csse_covid_19_data/csse_covid_19_daily_reports/05-08-2020.csv',\n",
       " 'csse_covid_19_data/csse_covid_19_daily_reports/05-09-2020.csv',\n",
       " 'csse_covid_19_data/csse_covid_19_daily_reports/05-10-2020.csv',\n",
       " 'csse_covid_19_data/csse_covid_19_daily_reports/05-11-2020.csv',\n",
       " 'csse_covid_19_data/csse_covid_19_daily_reports/05-12-2020.csv',\n",
       " 'csse_covid_19_data/csse_covid_19_daily_reports/05-13-2020.csv',\n",
       " 'csse_covid_19_data/csse_covid_19_daily_reports/05-14-2020.csv',\n",
       " 'csse_covid_19_data/csse_covid_19_daily_reports/05-15-2020.csv',\n",
       " 'csse_covid_19_data/csse_covid_19_daily_reports/05-16-2020.csv',\n",
       " 'csse_covid_19_data/csse_covid_19_daily_reports/05-17-2020.csv',\n",
       " 'csse_covid_19_data/csse_covid_19_daily_reports/05-18-2020.csv',\n",
       " 'csse_covid_19_data/csse_covid_19_daily_reports/05-19-2020.csv',\n",
       " 'csse_covid_19_data/csse_covid_19_daily_reports/05-20-2020.csv',\n",
       " 'csse_covid_19_data/csse_covid_19_daily_reports/05-21-2020.csv',\n",
       " 'csse_covid_19_data/csse_covid_19_daily_reports/05-22-2020.csv',\n",
       " 'csse_covid_19_data/csse_covid_19_daily_reports/05-23-2020.csv',\n",
       " 'csse_covid_19_data/csse_covid_19_daily_reports/05-24-2020.csv',\n",
       " 'csse_covid_19_data/csse_covid_19_daily_reports/05-25-2020.csv',\n",
       " 'csse_covid_19_data/csse_covid_19_daily_reports/05-26-2020.csv',\n",
       " 'csse_covid_19_data/csse_covid_19_daily_reports/05-27-2020.csv',\n",
       " 'csse_covid_19_data/csse_covid_19_daily_reports/05-28-2020.csv',\n",
       " 'csse_covid_19_data/csse_covid_19_daily_reports/05-29-2020.csv',\n",
       " 'csse_covid_19_data/csse_covid_19_daily_reports/05-30-2020.csv',\n",
       " 'csse_covid_19_data/csse_covid_19_daily_reports/05-31-2020.csv',\n",
       " 'csse_covid_19_data/csse_covid_19_daily_reports/06-01-2020.csv',\n",
       " 'csse_covid_19_data/csse_covid_19_daily_reports/06-02-2020.csv',\n",
       " 'csse_covid_19_data/csse_covid_19_daily_reports/06-03-2020.csv',\n",
       " 'csse_covid_19_data/csse_covid_19_daily_reports/06-04-2020.csv',\n",
       " 'csse_covid_19_data/csse_covid_19_daily_reports/06-05-2020.csv',\n",
       " 'csse_covid_19_data/csse_covid_19_daily_reports/06-06-2020.csv',\n",
       " 'csse_covid_19_data/csse_covid_19_daily_reports/06-07-2020.csv',\n",
       " 'csse_covid_19_data/csse_covid_19_daily_reports/06-08-2020.csv',\n",
       " 'csse_covid_19_data/csse_covid_19_daily_reports/06-09-2020.csv',\n",
       " 'csse_covid_19_data/csse_covid_19_daily_reports/06-10-2020.csv',\n",
       " 'csse_covid_19_data/csse_covid_19_daily_reports/06-11-2020.csv',\n",
       " 'csse_covid_19_data/csse_covid_19_daily_reports/06-12-2020.csv',\n",
       " 'csse_covid_19_data/csse_covid_19_daily_reports/06-13-2020.csv',\n",
       " 'csse_covid_19_data/csse_covid_19_daily_reports/06-14-2020.csv',\n",
       " 'csse_covid_19_data/csse_covid_19_daily_reports/06-15-2020.csv',\n",
       " 'csse_covid_19_data/csse_covid_19_daily_reports/06-16-2020.csv',\n",
       " 'csse_covid_19_data/csse_covid_19_daily_reports/06-17-2020.csv',\n",
       " 'csse_covid_19_data/csse_covid_19_daily_reports/06-18-2020.csv',\n",
       " 'csse_covid_19_data/csse_covid_19_daily_reports/06-19-2020.csv',\n",
       " 'csse_covid_19_data/csse_covid_19_daily_reports/06-20-2020.csv',\n",
       " 'csse_covid_19_data/csse_covid_19_daily_reports/06-21-2020.csv',\n",
       " 'csse_covid_19_data/csse_covid_19_daily_reports/06-22-2020.csv',\n",
       " 'csse_covid_19_data/csse_covid_19_daily_reports/06-23-2020.csv',\n",
       " 'csse_covid_19_data/csse_covid_19_daily_reports/06-24-2020.csv',\n",
       " 'csse_covid_19_data/csse_covid_19_daily_reports/06-25-2020.csv',\n",
       " 'csse_covid_19_data/csse_covid_19_daily_reports/06-26-2020.csv',\n",
       " 'csse_covid_19_data/csse_covid_19_daily_reports/06-27-2020.csv',\n",
       " 'csse_covid_19_data/csse_covid_19_daily_reports/06-28-2020.csv',\n",
       " 'csse_covid_19_data/csse_covid_19_daily_reports/06-29-2020.csv',\n",
       " 'csse_covid_19_data/csse_covid_19_daily_reports/06-30-2020.csv',\n",
       " 'csse_covid_19_data/csse_covid_19_daily_reports/07-01-2020.csv',\n",
       " 'csse_covid_19_data/csse_covid_19_daily_reports/07-02-2020.csv',\n",
       " 'csse_covid_19_data/csse_covid_19_daily_reports/07-03-2020.csv',\n",
       " 'csse_covid_19_data/csse_covid_19_daily_reports/07-04-2020.csv',\n",
       " 'csse_covid_19_data/csse_covid_19_daily_reports/07-05-2020.csv',\n",
       " 'csse_covid_19_data/csse_covid_19_daily_reports/07-06-2020.csv',\n",
       " 'csse_covid_19_data/csse_covid_19_daily_reports/07-07-2020.csv',\n",
       " 'csse_covid_19_data/csse_covid_19_daily_reports/07-08-2020.csv',\n",
       " 'csse_covid_19_data/csse_covid_19_daily_reports/07-09-2020.csv',\n",
       " 'csse_covid_19_data/csse_covid_19_daily_reports/07-10-2020.csv',\n",
       " 'csse_covid_19_data/csse_covid_19_daily_reports/07-11-2020.csv',\n",
       " 'csse_covid_19_data/csse_covid_19_daily_reports/07-12-2020.csv',\n",
       " 'csse_covid_19_data/csse_covid_19_daily_reports/07-13-2020.csv',\n",
       " 'csse_covid_19_data/csse_covid_19_daily_reports/07-14-2020.csv',\n",
       " 'csse_covid_19_data/csse_covid_19_daily_reports/07-15-2020.csv',\n",
       " 'csse_covid_19_data/csse_covid_19_daily_reports/07-16-2020.csv',\n",
       " 'csse_covid_19_data/csse_covid_19_daily_reports/07-17-2020.csv',\n",
       " 'csse_covid_19_data/csse_covid_19_daily_reports/07-18-2020.csv',\n",
       " 'csse_covid_19_data/csse_covid_19_daily_reports/07-19-2020.csv',\n",
       " 'csse_covid_19_data/csse_covid_19_daily_reports/07-20-2020.csv',\n",
       " 'csse_covid_19_data/csse_covid_19_daily_reports/07-21-2020.csv',\n",
       " 'csse_covid_19_data/csse_covid_19_daily_reports/07-22-2020.csv',\n",
       " 'csse_covid_19_data/csse_covid_19_daily_reports/07-23-2020.csv',\n",
       " 'csse_covid_19_data/csse_covid_19_daily_reports/07-24-2020.csv',\n",
       " 'csse_covid_19_data/csse_covid_19_daily_reports/07-25-2020.csv',\n",
       " 'csse_covid_19_data/csse_covid_19_daily_reports/07-26-2020.csv',\n",
       " 'csse_covid_19_data/csse_covid_19_daily_reports/07-27-2020.csv',\n",
       " 'csse_covid_19_data/csse_covid_19_daily_reports/07-28-2020.csv',\n",
       " 'csse_covid_19_data/csse_covid_19_daily_reports/07-29-2020.csv',\n",
       " 'csse_covid_19_data/csse_covid_19_daily_reports/07-30-2020.csv',\n",
       " 'csse_covid_19_data/csse_covid_19_daily_reports/07-31-2020.csv',\n",
       " 'csse_covid_19_data/csse_covid_19_daily_reports/08-01-2020.csv',\n",
       " 'csse_covid_19_data/csse_covid_19_daily_reports/08-02-2020.csv',\n",
       " 'csse_covid_19_data/csse_covid_19_daily_reports/08-03-2020.csv',\n",
       " 'csse_covid_19_data/csse_covid_19_daily_reports/08-04-2020.csv',\n",
       " 'csse_covid_19_data/csse_covid_19_daily_reports/08-05-2020.csv',\n",
       " 'csse_covid_19_data/csse_covid_19_daily_reports/08-06-2020.csv',\n",
       " 'csse_covid_19_data/csse_covid_19_daily_reports/08-07-2020.csv',\n",
       " 'csse_covid_19_data/csse_covid_19_daily_reports/08-08-2020.csv',\n",
       " 'csse_covid_19_data/csse_covid_19_daily_reports/08-09-2020.csv',\n",
       " 'csse_covid_19_data/csse_covid_19_daily_reports/08-10-2020.csv',\n",
       " 'csse_covid_19_data/csse_covid_19_daily_reports/08-11-2020.csv',\n",
       " 'csse_covid_19_data/csse_covid_19_daily_reports/08-12-2020.csv',\n",
       " 'csse_covid_19_data/csse_covid_19_daily_reports/08-13-2020.csv',\n",
       " 'csse_covid_19_data/csse_covid_19_daily_reports/08-14-2020.csv',\n",
       " 'csse_covid_19_data/csse_covid_19_daily_reports/08-15-2020.csv',\n",
       " 'csse_covid_19_data/csse_covid_19_daily_reports/08-16-2020.csv',\n",
       " 'csse_covid_19_data/csse_covid_19_daily_reports/08-17-2020.csv',\n",
       " 'csse_covid_19_data/csse_covid_19_daily_reports/08-18-2020.csv',\n",
       " 'csse_covid_19_data/csse_covid_19_daily_reports/08-19-2020.csv',\n",
       " 'csse_covid_19_data/csse_covid_19_daily_reports/08-20-2020.csv',\n",
       " 'csse_covid_19_data/csse_covid_19_daily_reports/08-21-2020.csv',\n",
       " 'csse_covid_19_data/csse_covid_19_daily_reports/08-22-2020.csv',\n",
       " 'csse_covid_19_data/csse_covid_19_daily_reports/08-23-2020.csv',\n",
       " 'csse_covid_19_data/csse_covid_19_daily_reports/08-24-2020.csv',\n",
       " 'csse_covid_19_data/csse_covid_19_daily_reports/08-25-2020.csv',\n",
       " 'csse_covid_19_data/csse_covid_19_daily_reports/08-26-2020.csv',\n",
       " 'csse_covid_19_data/csse_covid_19_daily_reports/08-27-2020.csv',\n",
       " 'csse_covid_19_data/csse_covid_19_daily_reports/08-28-2020.csv',\n",
       " 'csse_covid_19_data/csse_covid_19_daily_reports/08-29-2020.csv',\n",
       " 'csse_covid_19_data/csse_covid_19_daily_reports/08-30-2020.csv',\n",
       " 'csse_covid_19_data/csse_covid_19_daily_reports/08-31-2020.csv',\n",
       " 'csse_covid_19_data/csse_covid_19_daily_reports/09-01-2020.csv',\n",
       " 'csse_covid_19_data/csse_covid_19_daily_reports/09-02-2020.csv',\n",
       " 'csse_covid_19_data/csse_covid_19_daily_reports/09-03-2020.csv',\n",
       " 'csse_covid_19_data/csse_covid_19_daily_reports/09-04-2020.csv',\n",
       " 'csse_covid_19_data/csse_covid_19_daily_reports/09-05-2020.csv',\n",
       " 'csse_covid_19_data/csse_covid_19_daily_reports/09-06-2020.csv',\n",
       " 'csse_covid_19_data/csse_covid_19_daily_reports/09-07-2020.csv',\n",
       " 'csse_covid_19_data/csse_covid_19_daily_reports/09-08-2020.csv',\n",
       " 'csse_covid_19_data/csse_covid_19_daily_reports/09-09-2020.csv',\n",
       " 'csse_covid_19_data/csse_covid_19_daily_reports/09-10-2020.csv',\n",
       " 'csse_covid_19_data/csse_covid_19_daily_reports/09-11-2020.csv',\n",
       " 'csse_covid_19_data/csse_covid_19_daily_reports/09-12-2020.csv',\n",
       " 'csse_covid_19_data/csse_covid_19_daily_reports/09-13-2020.csv',\n",
       " 'csse_covid_19_data/csse_covid_19_daily_reports/09-14-2020.csv',\n",
       " 'csse_covid_19_data/csse_covid_19_daily_reports/09-15-2020.csv',\n",
       " 'csse_covid_19_data/csse_covid_19_daily_reports/09-16-2020.csv',\n",
       " 'csse_covid_19_data/csse_covid_19_daily_reports/09-17-2020.csv',\n",
       " 'csse_covid_19_data/csse_covid_19_daily_reports/09-18-2020.csv',\n",
       " 'csse_covid_19_data/csse_covid_19_daily_reports/09-19-2020.csv',\n",
       " 'csse_covid_19_data/csse_covid_19_daily_reports/09-20-2020.csv',\n",
       " 'csse_covid_19_data/csse_covid_19_daily_reports/09-21-2020.csv',\n",
       " 'csse_covid_19_data/csse_covid_19_daily_reports/09-22-2020.csv',\n",
       " 'csse_covid_19_data/csse_covid_19_daily_reports/09-23-2020.csv',\n",
       " 'csse_covid_19_data/csse_covid_19_daily_reports/09-24-2020.csv',\n",
       " 'csse_covid_19_data/csse_covid_19_daily_reports/09-25-2020.csv',\n",
       " 'csse_covid_19_data/csse_covid_19_daily_reports/09-26-2020.csv',\n",
       " 'csse_covid_19_data/csse_covid_19_daily_reports/09-27-2020.csv',\n",
       " 'csse_covid_19_data/csse_covid_19_daily_reports/09-28-2020.csv',\n",
       " 'csse_covid_19_data/csse_covid_19_daily_reports/09-29-2020.csv',\n",
       " 'csse_covid_19_data/csse_covid_19_daily_reports/09-30-2020.csv',\n",
       " 'csse_covid_19_data/csse_covid_19_daily_reports/10-01-2020.csv',\n",
       " 'csse_covid_19_data/csse_covid_19_daily_reports/10-02-2020.csv',\n",
       " 'csse_covid_19_data/csse_covid_19_daily_reports/10-03-2020.csv',\n",
       " 'csse_covid_19_data/csse_covid_19_daily_reports/10-04-2020.csv',\n",
       " 'csse_covid_19_data/csse_covid_19_daily_reports/10-05-2020.csv',\n",
       " 'csse_covid_19_data/csse_covid_19_daily_reports/10-06-2020.csv',\n",
       " 'csse_covid_19_data/csse_covid_19_daily_reports/10-07-2020.csv',\n",
       " 'csse_covid_19_data/csse_covid_19_daily_reports/10-08-2020.csv',\n",
       " 'csse_covid_19_data/csse_covid_19_daily_reports/10-09-2020.csv',\n",
       " 'csse_covid_19_data/csse_covid_19_daily_reports/10-10-2020.csv',\n",
       " 'csse_covid_19_data/csse_covid_19_daily_reports/10-11-2020.csv',\n",
       " 'csse_covid_19_data/csse_covid_19_daily_reports/10-12-2020.csv',\n",
       " 'csse_covid_19_data/csse_covid_19_daily_reports/10-13-2020.csv',\n",
       " 'csse_covid_19_data/csse_covid_19_daily_reports/10-14-2020.csv',\n",
       " 'csse_covid_19_data/csse_covid_19_daily_reports/10-15-2020.csv',\n",
       " 'csse_covid_19_data/csse_covid_19_daily_reports/10-16-2020.csv',\n",
       " 'csse_covid_19_data/csse_covid_19_daily_reports/10-17-2020.csv']"
      ]
     },
     "metadata": {},
     "execution_count": 4
    }
   ],
   "source": [
    "src.list_paths()"
   ]
  },
  {
   "cell_type": "code",
   "execution_count": null,
   "metadata": {},
   "outputs": [],
   "source": []
  }
 ]
}