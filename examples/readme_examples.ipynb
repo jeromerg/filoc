{
 "cells": [
  {
   "cell_type": "code",
   "execution_count": 87,
   "metadata": {},
   "outputs": [],
   "source": [
    "import os\n",
    "import sys\n",
    "sys.path.insert(0,os.path.abspath('../'))\n",
    "from filoc import filoc\n",
    "from pandas import DataFrame\n",
    "import pandas as pd"
   ]
  },
  {
   "cell_type": "code",
   "execution_count": 86,
   "metadata": {},
   "outputs": [],
   "source": [
    "import logging\n",
    "logging.basicConfig()\n",
    "log = logging.getLogger('NB')"
   ]
  },
  {
   "cell_type": "code",
   "execution_count": 2,
   "metadata": {},
   "outputs": [],
   "source": [
    "os.makedirs('/data', exist_ok=True)"
   ]
  },
  {
   "cell_type": "code",
   "execution_count": 14,
   "metadata": {},
   "outputs": [
    {
     "name": "stdout",
     "output_type": "stream",
     "text": [
      "   country company  address           phone\n",
      "0   France     OVH  Roubaix    +33681906730\n",
      "1  Germany  Strato   Berlin    +49303001460\n",
      "2  Germany      DF   Munich  +4989998288026\n"
     ]
    }
   ],
   "source": [
    "loc = filoc('/data/{country}/{company}/info.json', writable=True)\n",
    "\n",
    "df = DataFrame([\n",
    "    { 'country':'France' , 'company':'OVH'   , 'address':'Roubaix', 'phone':\"+33681906730\"  },\n",
    "    { 'country':'Germany', 'company':'Strato', 'address':'Berlin' , 'phone':\"+49303001460\"  },\n",
    "    { 'country':'Germany', 'company':'DF'    , 'address':'Munich' , 'phone':\"+4989998288026\"},\n",
    "])\n",
    "print(df)"
   ]
  },
  {
   "cell_type": "code",
   "execution_count": 15,
   "metadata": {},
   "outputs": [],
   "source": [
    "loc.write_contents(df)"
   ]
  },
  {
   "cell_type": "code",
   "execution_count": 16,
   "metadata": {},
   "outputs": [
    {
     "name": "stdout",
     "output_type": "stream",
     "text": [
      "/data/Germany/DF/info.json\n",
      "/data/Germany/Strato/info.json\n",
      "/data/France/OVH/info.json\n"
     ]
    }
   ],
   "source": [
    "! find /data -type f"
   ]
  },
  {
   "cell_type": "code",
   "execution_count": 17,
   "metadata": {},
   "outputs": [
    {
     "name": "stdout",
     "output_type": "stream",
     "text": [
      "   address           phone  country company\n",
      "0  Roubaix    +33681906730   France     OVH\n",
      "1   Munich  +4989998288026  Germany      DF\n",
      "2   Berlin    +49303001460  Germany  Strato\n"
     ]
    }
   ],
   "source": [
    "from filoc import filoc\n",
    "loc = filoc('/data/{country}/{company}/info.json')\n",
    "df = loc.read_contents()\n",
    "print(df)"
   ]
  },
  {
   "cell_type": "code",
   "execution_count": 18,
   "metadata": {},
   "outputs": [],
   "source": [
    "df.loc[1, \"phone\"] = \"+4989998288026\""
   ]
  },
  {
   "cell_type": "code",
   "execution_count": 19,
   "metadata": {},
   "outputs": [],
   "source": [
    "loc = filoc('/data/{country}/{company}/info.json', writable=True)\n",
    "loc.write_contents(df)"
   ]
  },
  {
   "cell_type": "code",
   "execution_count": 20,
   "metadata": {},
   "outputs": [
    {
     "name": "stdout",
     "output_type": "stream",
     "text": [
      "   address           phone  country company\n",
      "0  Roubaix    +33681906730   France     OVH\n",
      "1   Munich  +4989998288026  Germany      DF\n",
      "2   Berlin    +49303001460  Germany  Strato\n"
     ]
    }
   ],
   "source": [
    "print(df)"
   ]
  },
  {
   "cell_type": "code",
   "execution_count": 21,
   "metadata": {},
   "outputs": [
    {
     "name": "stdout",
     "output_type": "stream",
     "text": [
      "   address           phone  country company\n",
      "0  Roubaix    +33681906730   France     OVH\n",
      "1   Munich  +4989998288026  Germany      DF\n",
      "2   Berlin    +49303001460  Germany  Strato\n"
     ]
    }
   ],
   "source": [
    "print(loc.read_contents())"
   ]
  },
  {
   "cell_type": "code",
   "execution_count": 22,
   "metadata": {},
   "outputs": [
    {
     "name": "stdout",
     "output_type": "stream",
     "text": [
      "address            Munich\n",
      "phone      +4989998288026\n",
      "country           Germany\n",
      "company                DF\n",
      "dtype: object\n"
     ]
    }
   ],
   "source": [
    "series = loc.read_content(country='Germany', company='DF')\n",
    "print(series)\n"
   ]
  },
  {
   "cell_type": "code",
   "execution_count": 23,
   "metadata": {},
   "outputs": [
    {
     "name": "stdout",
     "output_type": "stream",
     "text": [
      "The company address is: Munich\n"
     ]
    }
   ],
   "source": [
    "print(f'The company address is: {series.address}')\n"
   ]
  },
  {
   "cell_type": "code",
   "execution_count": 24,
   "metadata": {},
   "outputs": [],
   "source": [
    "df.loc[df['company'] == 'DF', 'address'] = 'Ismaning (by Munich)' "
   ]
  },
  {
   "cell_type": "code",
   "execution_count": 25,
   "metadata": {},
   "outputs": [
    {
     "data": {
      "text/html": [
       "<div>\n",
       "<style scoped>\n",
       "    .dataframe tbody tr th:only-of-type {\n",
       "        vertical-align: middle;\n",
       "    }\n",
       "\n",
       "    .dataframe tbody tr th {\n",
       "        vertical-align: top;\n",
       "    }\n",
       "\n",
       "    .dataframe thead th {\n",
       "        text-align: right;\n",
       "    }\n",
       "</style>\n",
       "<table border=\"1\" class=\"dataframe\">\n",
       "  <thead>\n",
       "    <tr style=\"text-align: right;\">\n",
       "      <th></th>\n",
       "      <th>address</th>\n",
       "      <th>phone</th>\n",
       "      <th>country</th>\n",
       "      <th>company</th>\n",
       "    </tr>\n",
       "  </thead>\n",
       "  <tbody>\n",
       "    <tr>\n",
       "      <th>0</th>\n",
       "      <td>Roubaix</td>\n",
       "      <td>+33681906730</td>\n",
       "      <td>France</td>\n",
       "      <td>OVH</td>\n",
       "    </tr>\n",
       "    <tr>\n",
       "      <th>1</th>\n",
       "      <td>Ismaning (by Munich)</td>\n",
       "      <td>+4989998288026</td>\n",
       "      <td>Germany</td>\n",
       "      <td>DF</td>\n",
       "    </tr>\n",
       "    <tr>\n",
       "      <th>2</th>\n",
       "      <td>Berlin</td>\n",
       "      <td>+49303001460</td>\n",
       "      <td>Germany</td>\n",
       "      <td>Strato</td>\n",
       "    </tr>\n",
       "  </tbody>\n",
       "</table>\n",
       "</div>"
      ],
      "text/plain": [
       "                address           phone  country company\n",
       "0               Roubaix    +33681906730   France     OVH\n",
       "1  Ismaning (by Munich)  +4989998288026  Germany      DF\n",
       "2                Berlin    +49303001460  Germany  Strato"
      ]
     },
     "execution_count": 25,
     "metadata": {},
     "output_type": "execute_result"
    }
   ],
   "source": [
    "df"
   ]
  },
  {
   "cell_type": "code",
   "execution_count": 26,
   "metadata": {},
   "outputs": [],
   "source": [
    "loc.write_contents(df)"
   ]
  },
  {
   "cell_type": "code",
   "execution_count": 27,
   "metadata": {},
   "outputs": [
    {
     "name": "stdout",
     "output_type": "stream",
     "text": [
      "{\n",
      "  \"address\": \"Ismaning (by Munich)\",\n",
      "  \"phone\": \"+4989998288026\"\n",
      "}"
     ]
    }
   ],
   "source": [
    "!cat /data/Germany/DF/info.json"
   ]
  },
  {
   "cell_type": "code",
   "execution_count": 3,
   "metadata": {},
   "outputs": [],
   "source": [
    "src = filoc('github://CSSEGISandData:COVID-19@/csse_covid_19_data/csse_covid_19_daily_reports/{date_str}.csv')\n"
   ]
  },
  {
   "cell_type": "code",
   "execution_count": 6,
   "metadata": {},
   "outputs": [
    {
     "data": {
      "text/plain": [
       "[(0, 0), (2, 2), (4, 4), (6, 6), (8, 8)]"
      ]
     },
     "execution_count": 6,
     "metadata": {},
     "output_type": "execute_result"
    }
   ],
   "source": [
    "[ (idx, i) for idx, i in enumerate(range(10)) if i % 2 == 0]"
   ]
  },
  {
   "cell_type": "code",
   "execution_count": 13,
   "metadata": {},
   "outputs": [],
   "source": [
    "#src.list_paths()"
   ]
  },
  {
   "cell_type": "code",
   "execution_count": 59,
   "metadata": {},
   "outputs": [
    {
     "name": "stdout",
     "output_type": "stream",
     "text": [
      "   country company  year   revenue\n",
      "0   France     OVH  2019  10256745\n",
      "1   France     OVH  2020  11132643\n",
      "2  Germany  Strato  2019  54657631\n",
      "3  Germany  Strato  2020  54411544\n",
      "4  Germany      DF  2019  14578415\n",
      "5  Germany      DF  2020  37456466\n"
     ]
    }
   ],
   "source": [
    "loc = filoc('/data/{country}/{company}/{year:d}_revenue.json', writable=True)\n",
    "\n",
    "df = DataFrame([\n",
    "    { 'country':'France' , 'company':'OVH'   , 'year':2019, 'revenue':\"10256745\"  },\n",
    "    { 'country':'France' , 'company':'OVH'   , 'year':2020, 'revenue':\"11132643\"  },\n",
    "    { 'country':'Germany', 'company':'Strato', 'year':2019, 'revenue':\"54657631\"  },\n",
    "    { 'country':'Germany', 'company':'Strato', 'year':2020, 'revenue':\"54411544\"  },\n",
    "    { 'country':'Germany', 'company':'DF'    , 'year':2019, 'revenue':\"14578415\"},\n",
    "    { 'country':'Germany', 'company':'DF'    , 'year':2020, 'revenue':\"37456466\"},\n",
    "])\n",
    "print(df)"
   ]
  },
  {
   "cell_type": "code",
   "execution_count": 60,
   "metadata": {},
   "outputs": [],
   "source": [
    "loc.write_contents(df)"
   ]
  },
  {
   "cell_type": "code",
   "execution_count": 98,
   "metadata": {},
   "outputs": [
    {
     "name": "stderr",
     "output_type": "stream",
     "text": [
      "DEBUG:parse:format '/data/{country}/{company}/{year:d}_revenue.json' -> '/data/(?P<country>.+?)/(?P<company>.+?)/(?P<year>[-+ ]?\\\\d+|[-+ ]?0[xX][0-9a-fA-F]+|[-+ ]?0[bB][01]+|[-+ ]?0[oO][0-7]+)_revenue\\\\.json'\n",
      "DEBUG:parse:format '/data/{country}/{company}/info.json' -> '/data/(?P<country>.+?)/(?P<company>.+?)/info\\\\.json'\n"
     ]
    }
   ],
   "source": [
    "mloc = filoc(\n",
    "    {\n",
    "        'contact' : '/data/{country}/{company}/info.json',\n",
    "        'finance' : filoc('/data/{country}/{company}/{year:d}_revenue.json', writable=True)\n",
    "    }\n",
    ")"
   ]
  },
  {
   "cell_type": "code",
   "execution_count": 99,
   "metadata": {},
   "outputs": [
    {
     "name": "stderr",
     "output_type": "stream",
     "text": [
      "INFO:filoc:Found 3 files to read in locpath /data/{country}/{company}/info.json fulfilling props {}\n",
      "INFO:filoc:Reading content for /data/France/OVH/info.json\n",
      "INFO:filoc:Read content for /data/France/OVH/info.json\n",
      "INFO:filoc:Reading content for /data/Germany/DF/info.json\n",
      "INFO:filoc:Read content for /data/Germany/DF/info.json\n",
      "INFO:filoc:Reading content for /data/Germany/Strato/info.json\n",
      "INFO:filoc:Read content for /data/Germany/Strato/info.json\n",
      "INFO:filoc:Found 6 files to read in locpath /data/{country}/{company}/{year:d}_revenue.json fulfilling props {}\n",
      "INFO:filoc:Reading content for /data/France/OVH/2019_revenue.json\n",
      "INFO:filoc:Read content for /data/France/OVH/2019_revenue.json\n",
      "INFO:filoc:Reading content for /data/France/OVH/2020_revenue.json\n",
      "INFO:filoc:Read content for /data/France/OVH/2020_revenue.json\n",
      "INFO:filoc:Reading content for /data/Germany/DF/2019_revenue.json\n",
      "INFO:filoc:Read content for /data/Germany/DF/2019_revenue.json\n",
      "INFO:filoc:Reading content for /data/Germany/DF/2020_revenue.json\n",
      "INFO:filoc:Read content for /data/Germany/DF/2020_revenue.json\n",
      "INFO:filoc:Reading content for /data/Germany/Strato/2019_revenue.json\n",
      "INFO:filoc:Read content for /data/Germany/Strato/2019_revenue.json\n",
      "INFO:filoc:Reading content for /data/Germany/Strato/2020_revenue.json\n",
      "INFO:filoc:Read content for /data/Germany/Strato/2020_revenue.json\n"
     ]
    },
    {
     "name": "stdout",
     "output_type": "stream",
     "text": [
      "   shared.year shared.company shared.country       contact.address   contact.phone finance.revenue\n",
      "0        2019           OVH        France               Roubaix    +33681906730        10256745\n",
      "1        2019            DF       Germany  Ismaning (by Munich)  +4989998288026        14578415\n",
      "2        2019        Strato       Germany                Berlin    +49303001460        54657631\n",
      "3        2020           OVH        France               Roubaix    +33681906730        11132643\n",
      "4        2020            DF       Germany  Ismaning (by Munich)  +4989998288026        37456466\n",
      "5        2020        Strato       Germany                Berlin    +49303001460        54411544\n"
     ]
    }
   ],
   "source": [
    "df = mloc.read_contents()\n",
    "\n",
    "with pd.option_context(\"display.max_columns\", 10, 'display.width', 10000): # change the count of rows, to display more!\n",
    "    print(df)"
   ]
  },
  {
   "cell_type": "code",
   "execution_count": 100,
   "metadata": {},
   "outputs": [
    {
     "name": "stdout",
     "output_type": "stream",
     "text": [
      "   shared.year shared.company shared.country       contact.address   contact.phone finance.revenue\n",
      "0        2019           OVH        France               Roubaix    +33681906730               0\n",
      "1        2019            DF       Germany  Ismaning (by Munich)  +4989998288026        14578415\n",
      "2        2019        Strato       Germany                Berlin    +49303001460        54657631\n",
      "3        2020           OVH        France               Roubaix    +33681906730        11132643\n",
      "4        2020            DF       Germany  Ismaning (by Munich)  +4989998288026        37456466\n",
      "5        2020        Strato       Germany                Berlin    +49303001460        54411544\n"
     ]
    }
   ],
   "source": [
    "df.loc[ (df['shared.year'] == 2019) & (df['shared.company'] == 'OVH'), 'finance.revenue'] = 0\n",
    "\n",
    "with pd.option_context(\"display.max_columns\", 10, 'display.width', 10000): # change the count of rows, to display more!\n",
    "    print(df)"
   ]
  },
  {
   "cell_type": "code",
   "execution_count": 101,
   "metadata": {},
   "outputs": [
    {
     "name": "stderr",
     "output_type": "stream",
     "text": [
      "INFO:filoc:Saving to /data/France/OVH/2019_revenue.json\n",
      "INFO:filoc:Saved /data/France/OVH/2019_revenue.json\n",
      "INFO:filoc:Saving to /data/Germany/DF/2019_revenue.json\n",
      "INFO:filoc:Saved /data/Germany/DF/2019_revenue.json\n",
      "INFO:filoc:Saving to /data/Germany/Strato/2019_revenue.json\n",
      "INFO:filoc:Saved /data/Germany/Strato/2019_revenue.json\n",
      "INFO:filoc:Saving to /data/France/OVH/2020_revenue.json\n",
      "INFO:filoc:Saved /data/France/OVH/2020_revenue.json\n",
      "INFO:filoc:Saving to /data/Germany/DF/2020_revenue.json\n",
      "INFO:filoc:Saved /data/Germany/DF/2020_revenue.json\n",
      "INFO:filoc:Saving to /data/Germany/Strato/2020_revenue.json\n",
      "INFO:filoc:Saved /data/Germany/Strato/2020_revenue.json\n"
     ]
    }
   ],
   "source": [
    "mloc.write_contents(df)"
   ]
  },
  {
   "cell_type": "code",
   "execution_count": 102,
   "metadata": {},
   "outputs": [
    {
     "name": "stderr",
     "output_type": "stream",
     "text": [
      "INFO:filoc:Found 3 files to read in locpath /data/{country}/{company}/info.json fulfilling props {}\n",
      "INFO:filoc:Reading content for /data/France/OVH/info.json\n",
      "INFO:filoc:Read content for /data/France/OVH/info.json\n",
      "INFO:filoc:Reading content for /data/Germany/DF/info.json\n",
      "INFO:filoc:Read content for /data/Germany/DF/info.json\n",
      "INFO:filoc:Reading content for /data/Germany/Strato/info.json\n",
      "INFO:filoc:Read content for /data/Germany/Strato/info.json\n",
      "INFO:filoc:Found 6 files to read in locpath /data/{country}/{company}/{year:d}_revenue.json fulfilling props {}\n",
      "INFO:filoc:Reading content for /data/France/OVH/2019_revenue.json\n",
      "INFO:filoc:Read content for /data/France/OVH/2019_revenue.json\n",
      "INFO:filoc:Reading content for /data/France/OVH/2020_revenue.json\n",
      "INFO:filoc:Read content for /data/France/OVH/2020_revenue.json\n",
      "INFO:filoc:Reading content for /data/Germany/DF/2019_revenue.json\n",
      "INFO:filoc:Read content for /data/Germany/DF/2019_revenue.json\n",
      "INFO:filoc:Reading content for /data/Germany/DF/2020_revenue.json\n",
      "INFO:filoc:Read content for /data/Germany/DF/2020_revenue.json\n",
      "INFO:filoc:Reading content for /data/Germany/Strato/2019_revenue.json\n",
      "INFO:filoc:Read content for /data/Germany/Strato/2019_revenue.json\n",
      "INFO:filoc:Reading content for /data/Germany/Strato/2020_revenue.json\n",
      "INFO:filoc:Read content for /data/Germany/Strato/2020_revenue.json\n"
     ]
    },
    {
     "name": "stdout",
     "output_type": "stream",
     "text": [
      "   shared.year shared.company shared.country       contact.address   contact.phone finance.revenue\n",
      "0        2019           OVH        France               Roubaix    +33681906730               0\n",
      "1        2019            DF       Germany  Ismaning (by Munich)  +4989998288026        14578415\n",
      "2        2019        Strato       Germany                Berlin    +49303001460        54657631\n",
      "3        2020           OVH        France               Roubaix    +33681906730        11132643\n",
      "4        2020            DF       Germany  Ismaning (by Munich)  +4989998288026        37456466\n",
      "5        2020        Strato       Germany                Berlin    +49303001460        54411544\n"
     ]
    }
   ],
   "source": [
    "df = mloc.read_contents()\n",
    "with pd.option_context(\"display.max_columns\", 10, 'display.width', 10000): # change the count of rows, to display more!\n",
    "    print(df)"
   ]
  },
  {
   "cell_type": "code",
   "execution_count": 92,
   "metadata": {},
   "outputs": [],
   "source": [
    "logging.getLogger().setLevel(logging.DEBUG)"
   ]
  },
  {
   "cell_type": "code",
   "execution_count": 103,
   "metadata": {},
   "outputs": [
    {
     "name": "stdout",
     "output_type": "stream",
     "text": [
      "{\n",
      "  \"revenue\": 0\n",
      "}"
     ]
    }
   ],
   "source": [
    "! cat /data/France/OVH/2019_revenue.json"
   ]
  },
  {
   "cell_type": "code",
   "execution_count": null,
   "metadata": {},
   "outputs": [],
   "source": []
  }
 ],
 "metadata": {
  "kernelspec": {
   "display_name": "Python 3",
   "language": "python",
   "name": "python3"
  },
  "language_info": {
   "codemirror_mode": {
    "name": "ipython",
    "version": 3
   },
   "file_extension": ".py",
   "mimetype": "text/x-python",
   "name": "python",
   "nbconvert_exporter": "python",
   "pygments_lexer": "ipython3",
   "version": "3.8.2"
  }
 },
 "nbformat": 4,
 "nbformat_minor": 4
}
