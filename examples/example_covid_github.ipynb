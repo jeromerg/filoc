{
 "cells": [
  {
   "cell_type": "code",
   "execution_count": null,
   "metadata": {},
   "outputs": [],
   "source": [
    "import os\n",
    "import sys\n",
    "sys.path.insert(0,os.path.abspath('../'))\n",
    "from filoc import filoc\n",
    "from pandas import DataFrame\n",
    "import pandas as pd\n",
    "import matplotlib.pyplot as plt\n",
    "import seaborn as sns"
   ]
  },
  {
   "cell_type": "code",
   "execution_count": null,
   "metadata": {},
   "outputs": [],
   "source": [
    "loc = filoc('github://CSSEGISandData:COVID-19@/csse_covid_19_data/csse_covid_19_daily_reports/{date_str}.csv', backend='csv', singleton=False, encoding='utf-8-sig')"
   ]
  },
  {
   "cell_type": "code",
   "execution_count": null,
   "metadata": {
    "scrolled": true
   },
   "outputs": [],
   "source": [
    "loc.list_paths()[:10]"
   ]
  },
  {
   "cell_type": "code",
   "execution_count": null,
   "metadata": {},
   "outputs": [],
   "source": [
    "from typing import Dict, Any, List, Mapping, Optional, Set\n",
    "\n",
    "class B:\n",
    "    def __getitem__(self, item): pass\n",
    "    def __iter__(self): pass\n",
    "    def __len__(self): pass\n",
    "    \n",
    "Mapping.register(B)\n",
    "print(isinstance(B(), Mapping))\n"
   ]
  },
  {
   "cell_type": "code",
   "execution_count": null,
   "metadata": {},
   "outputs": [],
   "source": [
    "df = loc.read_contents()"
   ]
  },
  {
   "cell_type": "code",
   "execution_count": null,
   "metadata": {},
   "outputs": [],
   "source": [
    "df.describe().T.sort_index()"
   ]
  },
  {
   "cell_type": "code",
   "execution_count": null,
   "metadata": {},
   "outputs": [],
   "source": [
    "df['Country/Region'] = df['Country/Region'].combine_first(df['Country_Region'])\n",
    "df['Province/State'] = df['Province/State'].combine_first(df['Province_State'])\n",
    "df['Last Update']    = pd.to_datetime(df['Last Update'].combine_first(df['Last_Update']))\n",
    "df['date']           = pd.to_datetime(df['date_str'])\n",
    "df['Latitude']       = pd.to_numeric(df['Latitude'].combine_first(df['Lat']), errors='coerce')\n",
    "df['Longitude']      = pd.to_numeric(df['Longitude'].combine_first(df['Long_']), errors='coerce')\n",
    "df['Confirmed']      = pd.to_numeric(df['Confirmed'], errors='coerce')\n",
    "df['Recovered']      = pd.to_numeric(df['Recovered'], errors='coerce')\n",
    "df['Deaths']         = pd.to_numeric(df['Deaths'], errors='coerce')\n",
    "\n",
    "stats = df[['Country/Region', 'Province/State', 'date', 'Confirmed', 'Recovered', 'Deaths', 'Confirmed', 'Latitude', 'Longitude']]"
   ]
  },
  {
   "cell_type": "code",
   "execution_count": null,
   "metadata": {},
   "outputs": [],
   "source": [
    "stats.dtypes"
   ]
  },
  {
   "cell_type": "code",
   "execution_count": null,
   "metadata": {},
   "outputs": [],
   "source": [
    "! pip install more-itertools"
   ]
  },
  {
   "cell_type": "code",
   "execution_count": null,
   "metadata": {},
   "outputs": [],
   "source": [
    "import numpy as np\n",
    "from tabulate import tabulate \n",
    "from IPython.display import HTML\n",
    "from more_itertools import chunked,divide,distribute"
   ]
  },
  {
   "cell_type": "code",
   "execution_count": null,
   "metadata": {},
   "outputs": [],
   "source": [
    "col_len = 8\n",
    "values = chunked(np.sort(stats['Country/Region'].unique()), 8)\n",
    "display(tabulate(values, tablefmt='html', stralign='left', numalign='left'))\n",
    "# mod = len(values) % col_len\n",
    "# extension = 0 if mod == 0 else col_len - mod\n",
    "# extension = np.repeat(\"\", extension).astype(str)\n",
    "# all = np.concatenate([values, extension])\n",
    "# display(HTML(tabulate(np.reshape(all, (-1, col_len)), , )))"
   ]
  },
  {
   "cell_type": "code",
   "execution_count": null,
   "metadata": {},
   "outputs": [],
   "source": [
    "d = sorted(stats['Country/Region'].unique())\n",
    "d = \"<br/>\".join(d)\n",
    "#display(HTML(d))\n",
    "d"
   ]
  },
  {
   "cell_type": "code",
   "execution_count": null,
   "metadata": {},
   "outputs": [],
   "source": [
    "plt.rcParams['figure.figsize'] = [15, 8]\n",
    "ax = plt.gca()\n",
    "df1.groupby(by=['Country/Region', 'Province/State']).plot(x='date', y='Confirmed', ax=ax);"
   ]
  },
  {
   "cell_type": "code",
   "execution_count": null,
   "metadata": {},
   "outputs": [],
   "source": [
    "plt.rcParams['figure.figsize'] = [15, 8]\n",
    "ax = plt.gca()\n",
    "df.groupby(by=['Country/Region', 'Province/State']).plot(x='index.epoch', y='result.train_acc', ax=ax, legend=None);"
   ]
  }
 ],
 "metadata": {
  "kernelspec": {
   "display_name": "Python 3",
   "language": "python",
   "name": "python3"
  },
  "language_info": {
   "codemirror_mode": {
    "name": "ipython",
    "version": 3
   },
   "file_extension": ".py",
   "mimetype": "text/x-python",
   "name": "python",
   "nbconvert_exporter": "python",
   "pygments_lexer": "ipython3",
   "version": "3.8.2"
  }
 },
 "nbformat": 4,
 "nbformat_minor": 4
}