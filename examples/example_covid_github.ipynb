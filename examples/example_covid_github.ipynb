{
 "cells": [
  {
   "cell_type": "code",
   "execution_count": 2,
   "metadata": {},
   "outputs": [],
   "source": [
    "import os\n",
    "import sys\n",
    "sys.path.insert(0,os.path.abspath('../'))\n",
    "from filoc import filoc\n",
    "from pandas import DataFrame\n",
    "import pandas as pd\n",
    "import matplotlib.pyplot as plt\n",
    "import seaborn as sns"
   ]
  },
  {
   "cell_type": "code",
   "execution_count": 5,
   "metadata": {},
   "outputs": [
    {
     "ename": "TypeError",
     "evalue": "filoc() got an unexpected keyword argument 'cache'",
     "output_type": "error",
     "traceback": [
      "\u001B[0;31m---------------------------------------------------------------------------\u001B[0m",
      "\u001B[0;31mTypeError\u001B[0m                                 Traceback (most recent call last)",
      "\u001B[0;32m<ipython-input-5-d12f873ad1d8>\u001B[0m in \u001B[0;36m<module>\u001B[0;34m\u001B[0m\n\u001B[0;32m----> 1\u001B[0;31m \u001B[0mloc\u001B[0m \u001B[0;34m=\u001B[0m \u001B[0mfiloc\u001B[0m\u001B[0;34m(\u001B[0m\u001B[0;34m'github://CSSEGISandData:COVID-19@/csse_covid_19_data/csse_covid_19_daily_reports/{date_str}.csv'\u001B[0m\u001B[0;34m,\u001B[0m \u001B[0mbackend\u001B[0m\u001B[0;34m=\u001B[0m\u001B[0;34m'csv'\u001B[0m\u001B[0;34m,\u001B[0m \u001B[0msingleton\u001B[0m\u001B[0;34m=\u001B[0m\u001B[0;32mFalse\u001B[0m\u001B[0;34m,\u001B[0m \u001B[0mencoding\u001B[0m\u001B[0;34m=\u001B[0m\u001B[0;34m'utf-8-sig'\u001B[0m\u001B[0;34m,\u001B[0m \u001B[0mcache\u001B[0m\u001B[0;34m=\u001B[0m\u001B[0;34m'~/temp/filoc_cache'\u001B[0m\u001B[0;34m)\u001B[0m\u001B[0;34m\u001B[0m\u001B[0;34m\u001B[0m\u001B[0m\n\u001B[0m",
      "\u001B[0;31mTypeError\u001B[0m: filoc() got an unexpected keyword argument 'cache'"
     ]
    }
   ],
   "source": [
    "loc = filoc('github://CSSEGISandData:COVID-19@/csse_covid_19_data/csse_covid_19_daily_reports/{date_str}.csv', backend='csv', singleton=False, encoding='utf-8-sig', cache='~/temp/filoc_cache')"
   ]
  },
  {
   "cell_type": "code",
   "execution_count": 4,
   "metadata": {
    "scrolled": true
   },
   "outputs": [
    {
     "data": {
      "text/plain": [
       "['csse_covid_19_data/csse_covid_19_daily_reports/01-22-2020.csv',\n",
       " 'csse_covid_19_data/csse_covid_19_daily_reports/01-23-2020.csv',\n",
       " 'csse_covid_19_data/csse_covid_19_daily_reports/01-24-2020.csv',\n",
       " 'csse_covid_19_data/csse_covid_19_daily_reports/01-25-2020.csv',\n",
       " 'csse_covid_19_data/csse_covid_19_daily_reports/01-26-2020.csv',\n",
       " 'csse_covid_19_data/csse_covid_19_daily_reports/01-27-2020.csv',\n",
       " 'csse_covid_19_data/csse_covid_19_daily_reports/01-28-2020.csv',\n",
       " 'csse_covid_19_data/csse_covid_19_daily_reports/01-29-2020.csv',\n",
       " 'csse_covid_19_data/csse_covid_19_daily_reports/01-30-2020.csv',\n",
       " 'csse_covid_19_data/csse_covid_19_daily_reports/01-31-2020.csv']"
      ]
     },
     "execution_count": 4,
     "metadata": {},
     "output_type": "execute_result"
    }
   ],
   "source": [
    "loc.list_paths()[:10]"
   ]
  },
  {
   "cell_type": "code",
   "execution_count": null,
   "metadata": {},
   "outputs": [],
   "source": [
    "df = loc.read_contents()"
   ]
  },
  {
   "cell_type": "code",
   "execution_count": null,
   "metadata": {},
   "outputs": [],
   "source": [
    "df['Country/Region'] = df['Country/Region'].combine_first(df['Country_Region'])\n",
    "df['Province/State'] = df['Province/State'].combine_first(df['Province_State'])\n",
    "df['Last Update']    = pd.to_datetime(df['Last Update'].combine_first(df['Last_Update']))\n",
    "df['date']           = pd.to_datetime(df['date_str'])\n",
    "df['Latitude']       = pd.to_numeric(df['Latitude'].combine_first(df['Lat']), errors='coerce')\n",
    "df['Longitude']      = pd.to_numeric(df['Longitude'].combine_first(df['Long_']), errors='coerce')\n",
    "df['Confirmed']      = pd.to_numeric(df['Confirmed'], errors='coerce')\n",
    "df['Recovered']      = pd.to_numeric(df['Recovered'], errors='coerce')\n",
    "df['Deaths']         = pd.to_numeric(df['Deaths'], errors='coerce')\n",
    "\n",
    "stats = df[['Country/Region', 'Province/State', 'date', 'Confirmed', 'Recovered', 'Deaths', 'Confirmed', 'Latitude', 'Longitude']]"
   ]
  },
  {
   "cell_type": "code",
   "execution_count": null,
   "metadata": {},
   "outputs": [],
   "source": [
    "stats.dtypes"
   ]
  },
  {
   "cell_type": "code",
   "execution_count": null,
   "metadata": {},
   "outputs": [],
   "source": [
    "! pip install more-itertools"
   ]
  },
  {
   "cell_type": "code",
   "execution_count": null,
   "metadata": {},
   "outputs": [],
   "source": [
    "import numpy as np\n",
    "from tabulate import tabulate \n",
    "from IPython.display import HTML\n",
    "from more_itertools import chunked,divide,distribute"
   ]
  },
  {
   "cell_type": "code",
   "execution_count": null,
   "metadata": {},
   "outputs": [],
   "source": [
    "col_len = 8\n",
    "values = chunked(np.sort(stats['Country/Region'].unique()), 8)\n",
    "display(tabulate(values, tablefmt='html', stralign='left', numalign='left'))\n",
    "# mod = len(values) % col_len\n",
    "# extension = 0 if mod == 0 else col_len - mod\n",
    "# extension = np.repeat(\"\", extension).astype(str)\n",
    "# all = np.concatenate([values, extension])\n",
    "# display(HTML(tabulate(np.reshape(all, (-1, col_len)), , )))"
   ]
  },
  {
   "cell_type": "code",
   "execution_count": null,
   "metadata": {},
   "outputs": [],
   "source": [
    "d = sorted(stats['Country/Region'].unique())\n",
    "d = \"<br/>\".join(d)\n",
    "#display(HTML(d))\n",
    "d"
   ]
  },
  {
   "cell_type": "code",
   "execution_count": null,
   "metadata": {},
   "outputs": [],
   "source": [
    "plt.rcParams['figure.figsize'] = [15, 8]\n",
    "ax = plt.gca()\n",
    "df1.groupby(by=['Country/Region', 'Province/State']).plot(x='date', y='Confirmed', ax=ax);"
   ]
  },
  {
   "cell_type": "code",
   "execution_count": null,
   "metadata": {},
   "outputs": [],
   "source": [
    "plt.rcParams['figure.figsize'] = [15, 8]\n",
    "ax = plt.gca()\n",
    "df.groupby(by=['Country/Region', 'Province/State']).plot(x='index.epoch', y='result.train_acc', ax=ax, legend=None);"
   ]
  }
 ],
 "metadata": {
  "kernelspec": {
   "display_name": "Python 3",
   "language": "python",
   "name": "python3"
  },
  "language_info": {
   "codemirror_mode": {
    "name": "ipython",
    "version": 3
   },
   "file_extension": ".py",
   "mimetype": "text/x-python",
   "name": "python",
   "nbconvert_exporter": "python",
   "pygments_lexer": "ipython3",
   "version": "3.8.2"
  }
 },
 "nbformat": 4,
 "nbformat_minor": 4
}