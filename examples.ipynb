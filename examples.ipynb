{
 "cells": [
  {
   "cell_type": "markdown",
   "source": [
    "# Filoc Examples"
   ],
   "metadata": {
    "collapsed": false
   }
  },
  {
   "cell_type": "markdown",
   "source": [
    "## Read (Analysis)\n",
    "\n",
    "Imagine you run a few simulations in order to fine tune the hyper-parameters `learning_rate`, `bellman_gamma` and many others\n",
    "of a reinforcement learning algorithm. you stored both the hyperparameters and the result in the following folder structure:\n",
    "\n",
    "- `simulations/simid={simid}/hyperparameters.json`\n",
    "- `simulations/simid={simid}/epid={epid}/result.json`\n",
    "\n",
    "where `{simid}` and `{epid}` are an integer defining the simulation ID and the episode ID.\n",
    "\n",
    "Here is how filoc can help you to analyse the simulations and find the best hyperparameters."
   ],
   "metadata": {
    "collapsed": false,
    "pycharm": {
     "name": "#%% md\n"
    }
   }
  },
  {
   "cell_type": "code",
   "execution_count": 2,
   "metadata": {
    "collapsed": true
   },
   "outputs": [
    {
     "ename": "ImportError",
     "evalue": "cannot import name 'FilocBackend' from 'filoc.filoc_types' (D:\\pro\\megaforex\\dev\\filoc\\filoc\\filoc_types.py)",
     "output_type": "error",
     "traceback": [
      "\u001B[1;31m---------------------------------------------------------------------------\u001B[0m",
      "\u001B[1;31mImportError\u001B[0m                               Traceback (most recent call last)",
      "\u001B[1;32m<ipython-input-2-c864119ea6b2>\u001B[0m in \u001B[0;36m<module>\u001B[1;34m\u001B[0m\n\u001B[0;32m      1\u001B[0m \u001B[1;32mfrom\u001B[0m \u001B[0mIPython\u001B[0m\u001B[1;33m.\u001B[0m\u001B[0mcore\u001B[0m\u001B[1;33m.\u001B[0m\u001B[0mdisplay\u001B[0m \u001B[1;32mimport\u001B[0m \u001B[0mdisplay\u001B[0m\u001B[1;33m\u001B[0m\u001B[1;33m\u001B[0m\u001B[0m\n\u001B[1;32m----> 2\u001B[1;33m \u001B[1;32mfrom\u001B[0m \u001B[0mfiloc\u001B[0m \u001B[1;32mimport\u001B[0m \u001B[0mfiloc\u001B[0m\u001B[1;33m\u001B[0m\u001B[1;33m\u001B[0m\u001B[0m\n\u001B[0m\u001B[0;32m      3\u001B[0m \u001B[1;33m\u001B[0m\u001B[0m\n",
      "\u001B[1;32mD:\\pro\\megaforex\\dev\\filoc\\filoc\\__init__.py\u001B[0m in \u001B[0;36m<module>\u001B[1;34m\u001B[0m\n\u001B[0;32m      5\u001B[0m \u001B[1;33m\u001B[0m\u001B[0m\n\u001B[0;32m      6\u001B[0m \u001B[1;32mfrom\u001B[0m \u001B[1;33m.\u001B[0m\u001B[0mfiloc_opener\u001B[0m \u001B[1;32mimport\u001B[0m \u001B[0mFilocOpener\u001B[0m\u001B[1;33m\u001B[0m\u001B[1;33m\u001B[0m\u001B[0m\n\u001B[1;32m----> 7\u001B[1;33m \u001B[1;32mfrom\u001B[0m \u001B[1;33m.\u001B[0m\u001B[0mfiloc_base\u001B[0m \u001B[1;32mimport\u001B[0m \u001B[0mFilocBase\u001B[0m\u001B[1;33m,\u001B[0m \u001B[0mFilocCompositeBase\u001B[0m\u001B[1;33m,\u001B[0m \u001B[0mFiloc\u001B[0m\u001B[1;33m\u001B[0m\u001B[1;33m\u001B[0m\u001B[0m\n\u001B[0m\u001B[0;32m      8\u001B[0m \u001B[1;32mfrom\u001B[0m \u001B[1;33m.\u001B[0m\u001B[0mfiloc_json\u001B[0m \u001B[1;32mimport\u001B[0m \u001B[0mFilocJson\u001B[0m\u001B[1;33m,\u001B[0m \u001B[0mFilocCompositeJson\u001B[0m\u001B[1;33m\u001B[0m\u001B[1;33m\u001B[0m\u001B[0m\n\u001B[0;32m      9\u001B[0m \u001B[1;32mfrom\u001B[0m \u001B[1;33m.\u001B[0m\u001B[0mfiloc_pandas\u001B[0m \u001B[1;32mimport\u001B[0m \u001B[0mFilocPandas\u001B[0m\u001B[1;33m,\u001B[0m \u001B[0mFilocCompositePandas\u001B[0m\u001B[1;33m\u001B[0m\u001B[1;33m\u001B[0m\u001B[0m\n",
      "\u001B[1;32mD:\\pro\\megaforex\\dev\\filoc\\filoc\\filoc_base.py\u001B[0m in \u001B[0;36m<module>\u001B[1;34m\u001B[0m\n\u001B[0;32m     14\u001B[0m \u001B[1;32mfrom\u001B[0m \u001B[1;33m.\u001B[0m\u001B[0mfiloc_opener\u001B[0m \u001B[1;32mimport\u001B[0m \u001B[0mFilocOpener\u001B[0m\u001B[1;33m,\u001B[0m \u001B[0mmix_dicts\u001B[0m\u001B[1;33m\u001B[0m\u001B[1;33m\u001B[0m\u001B[0m\n\u001B[0;32m     15\u001B[0m \u001B[1;32mfrom\u001B[0m \u001B[1;33m.\u001B[0m\u001B[0mfiloc_types\u001B[0m \u001B[1;32mimport\u001B[0m \u001B[0mTContent\u001B[0m\u001B[1;33m,\u001B[0m \u001B[0mTContents\u001B[0m\u001B[1;33m,\u001B[0m \u001B[0mPropsConstraints\u001B[0m\u001B[1;33m,\u001B[0m \u001B[0mProps\u001B[0m\u001B[1;33m,\u001B[0m \u001B[0mPropsList\u001B[0m\u001B[1;33m,\u001B[0m \u001B[0mContentPath\u001B[0m\u001B[1;33m\u001B[0m\u001B[1;33m\u001B[0m\u001B[0m\n\u001B[1;32m---> 16\u001B[1;33m \u001B[1;32mfrom\u001B[0m \u001B[1;33m.\u001B[0m\u001B[0mutils\u001B[0m \u001B[1;32mimport\u001B[0m \u001B[0mmerge_tables\u001B[0m\u001B[1;33m\u001B[0m\u001B[1;33m\u001B[0m\u001B[0m\n\u001B[0m\u001B[0;32m     17\u001B[0m \u001B[1;33m\u001B[0m\u001B[0m\n\u001B[0;32m     18\u001B[0m \u001B[0mlog\u001B[0m \u001B[1;33m=\u001B[0m \u001B[0mlogging\u001B[0m\u001B[1;33m.\u001B[0m\u001B[0mgetLogger\u001B[0m\u001B[1;33m(\u001B[0m\u001B[1;34m'filoc'\u001B[0m\u001B[1;33m)\u001B[0m\u001B[1;33m\u001B[0m\u001B[1;33m\u001B[0m\u001B[0m\n",
      "\u001B[1;32mD:\\pro\\megaforex\\dev\\filoc\\filoc\\utils.py\u001B[0m in \u001B[0;36m<module>\u001B[1;34m\u001B[0m\n\u001B[0;32m      8\u001B[0m \u001B[1;32mfrom\u001B[0m \u001B[0mordered_set\u001B[0m \u001B[1;32mimport\u001B[0m \u001B[0mOrderedSet\u001B[0m\u001B[1;33m\u001B[0m\u001B[1;33m\u001B[0m\u001B[0m\n\u001B[0;32m      9\u001B[0m \u001B[1;33m\u001B[0m\u001B[0m\n\u001B[1;32m---> 10\u001B[1;33m \u001B[1;32mfrom\u001B[0m \u001B[0mfiloc\u001B[0m\u001B[1;33m.\u001B[0m\u001B[0mfiloc_types\u001B[0m \u001B[1;32mimport\u001B[0m \u001B[0mPropsList\u001B[0m\u001B[1;33m,\u001B[0m \u001B[0mFilocBackend\u001B[0m\u001B[1;33m,\u001B[0m \u001B[0mContentPath\u001B[0m\u001B[1;33m,\u001B[0m \u001B[0mPropsConstraints\u001B[0m\u001B[1;33m,\u001B[0m \u001B[0mProps\u001B[0m\u001B[1;33m\u001B[0m\u001B[1;33m\u001B[0m\u001B[0m\n\u001B[0m\u001B[0;32m     11\u001B[0m \u001B[1;33m\u001B[0m\u001B[0m\n\u001B[0;32m     12\u001B[0m \u001B[0mlog\u001B[0m \u001B[1;33m=\u001B[0m \u001B[0mlogging\u001B[0m\u001B[1;33m.\u001B[0m\u001B[0mgetLogger\u001B[0m\u001B[1;33m(\u001B[0m\u001B[1;34m'filoc_utils'\u001B[0m\u001B[1;33m)\u001B[0m\u001B[1;33m\u001B[0m\u001B[1;33m\u001B[0m\u001B[0m\n",
      "\u001B[1;31mImportError\u001B[0m: cannot import name 'FilocBackend' from 'filoc.filoc_types' (D:\\pro\\megaforex\\dev\\filoc\\filoc\\filoc_types.py)"
     ]
    }
   ],
   "source": [
    "from IPython.core.display import display\n",
    "from filoc import filoc"
   ]
  },
  {
   "cell_type": "markdown",
   "source": [
    "Let's have a look at the simulations hyperparameters:"
   ],
   "metadata": {
    "collapsed": false,
    "pycharm": {
     "name": "#%% md\n"
    }
   }
  },
  {
   "cell_type": "code",
   "execution_count": 1,
   "outputs": [
    {
     "ename": "NameError",
     "evalue": "name 'filoc' is not defined",
     "output_type": "error",
     "traceback": [
      "\u001B[1;31m---------------------------------------------------------------------------\u001B[0m",
      "\u001B[1;31mNameError\u001B[0m                                 Traceback (most recent call last)",
      "\u001B[1;32m<ipython-input-1-ca465fb939fd>\u001B[0m in \u001B[0;36m<module>\u001B[1;34m\u001B[0m\n\u001B[1;32m----> 1\u001B[1;33m \u001B[0mloc_hyp\u001B[0m \u001B[1;33m=\u001B[0m \u001B[0mfiloc\u001B[0m\u001B[1;33m(\u001B[0m\u001B[1;34m'./examples/simulations/simid={simid:d}/hyperparameters.json'\u001B[0m\u001B[1;33m)\u001B[0m\u001B[1;33m\u001B[0m\u001B[1;33m\u001B[0m\u001B[0m\n\u001B[0m\u001B[0;32m      2\u001B[0m \u001B[0mdf_hyp\u001B[0m \u001B[1;33m=\u001B[0m \u001B[0mloc_hyp\u001B[0m\u001B[1;33m.\u001B[0m\u001B[0mread_contents\u001B[0m\u001B[1;33m(\u001B[0m\u001B[1;33m)\u001B[0m\u001B[1;33m\u001B[0m\u001B[1;33m\u001B[0m\u001B[0m\n\u001B[0;32m      3\u001B[0m \u001B[0mdf_hyp\u001B[0m\u001B[1;33m\u001B[0m\u001B[1;33m\u001B[0m\u001B[0m\n\u001B[0;32m      4\u001B[0m \u001B[1;33m\u001B[0m\u001B[0m\n",
      "\u001B[1;31mNameError\u001B[0m: name 'filoc' is not defined"
     ]
    }
   ],
   "source": [
    "loc_hyp = filoc('./examples/simulations/simid={simid:d}/hyperparameters.json')\n",
    "df_hyp = loc_hyp.read_contents()\n",
    "df_hyp"
   ],
   "metadata": {
    "collapsed": false,
    "pycharm": {
     "name": "#%%\n"
    }
   }
  },
  {
   "cell_type": "markdown",
   "source": [
    "*filoc* scans the folder structure, reads every hyperparameters.json file and builds a dataframe with all values.\n",
    "\n",
    "Now let's see the result.json files:"
   ],
   "metadata": {
    "collapsed": false
   }
  },
  {
   "cell_type": "code",
   "execution_count": 4,
   "outputs": [
    {
     "data": {
      "text/plain": "     score  duration  simid  epid\n0   -10.45      0.70      0     0\n1    -4.56     30.00      0     1\n2     1.15      1.50      0     2\n3    30.70     12.45      0     3\n4    -0.10     12.45      1     0\n5   100.45     12.45      1     1\n6   100.45     12.45      1     2\n7   100.45     12.45      1     3\n8   100.45     12.45      3     0\n9   100.45     12.45      3     1\n10  100.45     12.45      3     2\n11  100.45     12.45      3     3",
      "text/html": "<div>\n<style scoped>\n    .dataframe tbody tr th:only-of-type {\n        vertical-align: middle;\n    }\n\n    .dataframe tbody tr th {\n        vertical-align: top;\n    }\n\n    .dataframe thead th {\n        text-align: right;\n    }\n</style>\n<table border=\"1\" class=\"dataframe\">\n  <thead>\n    <tr style=\"text-align: right;\">\n      <th></th>\n      <th>score</th>\n      <th>duration</th>\n      <th>simid</th>\n      <th>epid</th>\n    </tr>\n  </thead>\n  <tbody>\n    <tr>\n      <th>0</th>\n      <td>-10.45</td>\n      <td>0.70</td>\n      <td>0</td>\n      <td>0</td>\n    </tr>\n    <tr>\n      <th>1</th>\n      <td>-4.56</td>\n      <td>30.00</td>\n      <td>0</td>\n      <td>1</td>\n    </tr>\n    <tr>\n      <th>2</th>\n      <td>1.15</td>\n      <td>1.50</td>\n      <td>0</td>\n      <td>2</td>\n    </tr>\n    <tr>\n      <th>3</th>\n      <td>30.70</td>\n      <td>12.45</td>\n      <td>0</td>\n      <td>3</td>\n    </tr>\n    <tr>\n      <th>4</th>\n      <td>-0.10</td>\n      <td>12.45</td>\n      <td>1</td>\n      <td>0</td>\n    </tr>\n    <tr>\n      <th>5</th>\n      <td>100.45</td>\n      <td>12.45</td>\n      <td>1</td>\n      <td>1</td>\n    </tr>\n    <tr>\n      <th>6</th>\n      <td>100.45</td>\n      <td>12.45</td>\n      <td>1</td>\n      <td>2</td>\n    </tr>\n    <tr>\n      <th>7</th>\n      <td>100.45</td>\n      <td>12.45</td>\n      <td>1</td>\n      <td>3</td>\n    </tr>\n    <tr>\n      <th>8</th>\n      <td>100.45</td>\n      <td>12.45</td>\n      <td>3</td>\n      <td>0</td>\n    </tr>\n    <tr>\n      <th>9</th>\n      <td>100.45</td>\n      <td>12.45</td>\n      <td>3</td>\n      <td>1</td>\n    </tr>\n    <tr>\n      <th>10</th>\n      <td>100.45</td>\n      <td>12.45</td>\n      <td>3</td>\n      <td>2</td>\n    </tr>\n    <tr>\n      <th>11</th>\n      <td>100.45</td>\n      <td>12.45</td>\n      <td>3</td>\n      <td>3</td>\n    </tr>\n  </tbody>\n</table>\n</div>"
     },
     "metadata": {},
     "output_type": "display_data"
    }
   ],
   "source": [
    "loc_res = filoc('./examples/simulations/simid={simid:d}/epid={epid:d}/result.json')\n",
    "df_res = loc_res.read_contents()\n",
    "display(df_res)"
   ],
   "metadata": {
    "collapsed": false,
    "pycharm": {
     "name": "#%%\n"
    }
   }
  },
  {
   "cell_type": "markdown",
   "source": [
    "Now let's combine both files together:"
   ],
   "metadata": {
    "collapsed": false
   }
  },
  {
   "cell_type": "code",
   "execution_count": 5,
   "outputs": [
    {
     "data": {
      "text/plain": "    index.simid  index.epid  hyp.learning_rate  hyp.bellman_gamma  res.score  \\\n0             0           0              0.001               0.95      30.70   \n1             0           1              0.001               0.95      30.70   \n2             0           2              0.001               0.95      30.70   \n3             0           3              0.001               0.95      30.70   \n4             1           0              0.010               0.95     100.45   \n5             1           1              0.010               0.95     100.45   \n6             1           2              0.010               0.95     100.45   \n7             1           3              0.010               0.95     100.45   \n8             3           0              0.001               0.90     100.45   \n9             3           1              0.001               0.90     100.45   \n10            3           2              0.001               0.90     100.45   \n11            3           3              0.001               0.90     100.45   \n\n    res.duration  \n0          12.45  \n1          12.45  \n2          12.45  \n3          12.45  \n4          12.45  \n5          12.45  \n6          12.45  \n7          12.45  \n8          12.45  \n9          12.45  \n10         12.45  \n11         12.45  ",
      "text/html": "<div>\n<style scoped>\n    .dataframe tbody tr th:only-of-type {\n        vertical-align: middle;\n    }\n\n    .dataframe tbody tr th {\n        vertical-align: top;\n    }\n\n    .dataframe thead th {\n        text-align: right;\n    }\n</style>\n<table border=\"1\" class=\"dataframe\">\n  <thead>\n    <tr style=\"text-align: right;\">\n      <th></th>\n      <th>index.simid</th>\n      <th>index.epid</th>\n      <th>hyp.learning_rate</th>\n      <th>hyp.bellman_gamma</th>\n      <th>res.score</th>\n      <th>res.duration</th>\n    </tr>\n  </thead>\n  <tbody>\n    <tr>\n      <th>0</th>\n      <td>0</td>\n      <td>0</td>\n      <td>0.001</td>\n      <td>0.95</td>\n      <td>30.70</td>\n      <td>12.45</td>\n    </tr>\n    <tr>\n      <th>1</th>\n      <td>0</td>\n      <td>1</td>\n      <td>0.001</td>\n      <td>0.95</td>\n      <td>30.70</td>\n      <td>12.45</td>\n    </tr>\n    <tr>\n      <th>2</th>\n      <td>0</td>\n      <td>2</td>\n      <td>0.001</td>\n      <td>0.95</td>\n      <td>30.70</td>\n      <td>12.45</td>\n    </tr>\n    <tr>\n      <th>3</th>\n      <td>0</td>\n      <td>3</td>\n      <td>0.001</td>\n      <td>0.95</td>\n      <td>30.70</td>\n      <td>12.45</td>\n    </tr>\n    <tr>\n      <th>4</th>\n      <td>1</td>\n      <td>0</td>\n      <td>0.010</td>\n      <td>0.95</td>\n      <td>100.45</td>\n      <td>12.45</td>\n    </tr>\n    <tr>\n      <th>5</th>\n      <td>1</td>\n      <td>1</td>\n      <td>0.010</td>\n      <td>0.95</td>\n      <td>100.45</td>\n      <td>12.45</td>\n    </tr>\n    <tr>\n      <th>6</th>\n      <td>1</td>\n      <td>2</td>\n      <td>0.010</td>\n      <td>0.95</td>\n      <td>100.45</td>\n      <td>12.45</td>\n    </tr>\n    <tr>\n      <th>7</th>\n      <td>1</td>\n      <td>3</td>\n      <td>0.010</td>\n      <td>0.95</td>\n      <td>100.45</td>\n      <td>12.45</td>\n    </tr>\n    <tr>\n      <th>8</th>\n      <td>3</td>\n      <td>0</td>\n      <td>0.001</td>\n      <td>0.90</td>\n      <td>100.45</td>\n      <td>12.45</td>\n    </tr>\n    <tr>\n      <th>9</th>\n      <td>3</td>\n      <td>1</td>\n      <td>0.001</td>\n      <td>0.90</td>\n      <td>100.45</td>\n      <td>12.45</td>\n    </tr>\n    <tr>\n      <th>10</th>\n      <td>3</td>\n      <td>2</td>\n      <td>0.001</td>\n      <td>0.90</td>\n      <td>100.45</td>\n      <td>12.45</td>\n    </tr>\n    <tr>\n      <th>11</th>\n      <td>3</td>\n      <td>3</td>\n      <td>0.001</td>\n      <td>0.90</td>\n      <td>100.45</td>\n      <td>12.45</td>\n    </tr>\n  </tbody>\n</table>\n</div>"
     },
     "metadata": {},
     "output_type": "display_data"
    }
   ],
   "source": [
    "loc_all = filoc(hyp=loc_hyp, res=loc_res)\n",
    "df_all  = loc_all.read_contents()\n",
    "display(df_all)"
   ],
   "metadata": {
    "collapsed": false,
    "pycharm": {
     "name": "#%%\n"
    }
   }
  },
  {
   "cell_type": "markdown",
   "source": [
    "This time, the column names are prefix with the provided prefix `hyp` and `res` as well `index` for\n",
    "the keys, that were used to join the two tables. By default, filoc uses the keys defined in the path as\n",
    "join keys. If a sub-filoc has fewer keys in its path, then it joins this table with only the available key.\n",
    "\n",
    "Alternatively, you could directly pass the path instead of a sub-filoc:"
   ],
   "metadata": {
    "collapsed": false,
    "pycharm": {
     "name": "#%% md\n"
    }
   }
  },
  {
   "cell_type": "code",
   "execution_count": 7,
   "outputs": [],
   "source": [
    "loc_all = filoc(\n",
    "    hyp='./examples/simulations/simid={simid:d}/hyperparameters.json',\n",
    "    res='./examples/simulations/simid={simid:d}/epid={epid:d}/result.json'\n",
    ")\n",
    "df_all  = loc_all.read_contents()\n",
    "display(df_all)"
   ],
   "metadata": {
    "collapsed": false,
    "pycharm": {
     "name": "#%%\n"
    }
   }
  },
  {
   "cell_type": "markdown",
   "source": [
    "### Front-end alternative to pandas\n",
    "\n",
    "In some cases, the *pandas DataFrame* has some nasty issues, that prevents you to properly visualize the result.\n",
    "For example, it transforms an integer column to a float as soon as a value is missing in a row. Therefore, filoc\n",
    "is not constructed on pandas, but only uses it for the visualization, as a kind of front-end.\n",
    "There is currently another \"front-end\" based entirely on python simple dict and list, called \"json\" front-end:"
   ],
   "metadata": {
    "collapsed": false,
    "pycharm": {
     "name": "#%% md\n"
    }
   }
  },
  {
   "cell_type": "code",
   "execution_count": 9,
   "outputs": [
    {
     "data": {
      "text/plain": "[{'learning_rate': 0.001, 'bellman_gamma': 0.95, 'simid': 0},\n {'learning_rate': 0.01, 'bellman_gamma': 0.95, 'simid': 1},\n {'learning_rate': 0.001, 'bellman_gamma': 0.9, 'simid': 3}]"
     },
     "metadata": {},
     "output_type": "display_data"
    }
   ],
   "source": [
    "loc_hyp = filoc('./examples/simulations/simid={simid:d}/hyperparameters.json', frontend='json')\n",
    "json_hyp  = loc_hyp.read_contents()\n",
    "display(json_hyp)"
   ],
   "metadata": {
    "collapsed": false,
    "pycharm": {
     "name": "#%%\n"
    }
   }
  },
  {
   "cell_type": "markdown",
   "source": [
    "You can then implement your own representation or pass this content to another framework for further analysis\n",
    "or visualization. But we decided to set the `'pandas'` as default frontend, because it is easier to explore and\n",
    "visualize your data in only a few steps."
   ],
   "metadata": {
    "collapsed": false,
    "pycharm": {
     "name": "#%% md\n"
    }
   }
  },
  {
   "cell_type": "markdown",
   "source": [
    "### Read binary files\n",
    "Simulation results are not necessarily in a nice chewed json format but rather in optimized binary format, like\n",
    "tensorflow summary files or numpy arrays.\n",
    "\n",
    "TODO (introduce caching here too)"
   ],
   "metadata": {
    "collapsed": false
   }
  },
  {
   "cell_type": "markdown",
   "source": [
    "## Writing\n",
    "You can use filoc from the very beginning of your simulation campaign in order to\n",
    "prepare the simulations and manage the execution state of your simulation. Let's\n",
    "see an example\n",
    "\n",
    "TODO\n",
    "\n",
    "\n"
   ],
   "metadata": {
    "collapsed": false
   }
  }
 ],
 "metadata": {
  "kernelspec": {
   "display_name": "Python 3",
   "language": "python",
   "name": "python3"
  },
  "language_info": {
   "codemirror_mode": {
    "name": "ipython",
    "version": 2
   },
   "file_extension": ".py",
   "mimetype": "text/x-python",
   "name": "python",
   "nbconvert_exporter": "python",
   "pygments_lexer": "ipython2",
   "version": "2.7.6"
  }
 },
 "nbformat": 4,
 "nbformat_minor": 0
}